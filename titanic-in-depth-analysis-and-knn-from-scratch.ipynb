{
 "cells": [
  {
   "cell_type": "markdown",
   "id": "2ca56340",
   "metadata": {
    "execution": {
     "iopub.execute_input": "2022-10-24T21:36:57.890485Z",
     "iopub.status.busy": "2022-10-24T21:36:57.890076Z",
     "iopub.status.idle": "2022-10-24T21:36:57.898122Z",
     "shell.execute_reply": "2022-10-24T21:36:57.896272Z",
     "shell.execute_reply.started": "2022-10-24T21:36:57.890454Z"
    },
    "papermill": {
     "duration": 0.023523,
     "end_time": "2022-10-26T00:15:19.236182",
     "exception": false,
     "start_time": "2022-10-26T00:15:19.212659",
     "status": "completed"
    },
    "tags": []
   },
   "source": [
    "# 🛬 Import"
   ]
  },
  {
   "cell_type": "code",
   "execution_count": 1,
   "id": "e0cace87",
   "metadata": {
    "_cell_guid": "b1076dfc-b9ad-4769-8c92-a6c4dae69d19",
    "_uuid": "8f2839f25d086af736a60e9eeb907d3b93b6e0e5",
    "execution": {
     "iopub.execute_input": "2022-10-26T00:15:19.276008Z",
     "iopub.status.busy": "2022-10-26T00:15:19.275393Z",
     "iopub.status.idle": "2022-10-26T00:15:20.839983Z",
     "shell.execute_reply": "2022-10-26T00:15:20.838489Z"
    },
    "papermill": {
     "duration": 1.588216,
     "end_time": "2022-10-26T00:15:20.843132",
     "exception": false,
     "start_time": "2022-10-26T00:15:19.254916",
     "status": "completed"
    },
    "tags": []
   },
   "outputs": [],
   "source": [
    "from math import sqrt\n",
    "\n",
    "import numpy as np\n",
    "import pandas as pd\n",
    "import os\n",
    "import matplotlib.pyplot as plt\n",
    "import seaborn as sns\n",
    "from wordcloud import WordCloud\n",
    "\n",
    "from sklearn.model_selection import train_test_split\n",
    "from sklearn.preprocessing import OneHotEncoder, MinMaxScaler\n",
    "from sklearn.neighbors import KNeighborsClassifier\n",
    "from sklearn.metrics import accuracy_score, classification_report, confusion_matrix, plot_confusion_matrix\n",
    "from scipy.spatial import distance"
   ]
  },
  {
   "cell_type": "markdown",
   "id": "5994db31",
   "metadata": {
    "papermill": {
     "duration": 0.018105,
     "end_time": "2022-10-26T00:15:20.879876",
     "exception": false,
     "start_time": "2022-10-26T00:15:20.861771",
     "status": "completed"
    },
    "tags": []
   },
   "source": [
    "# 💾 Load Data"
   ]
  },
  {
   "cell_type": "code",
   "execution_count": 2,
   "id": "a7af74fa",
   "metadata": {
    "execution": {
     "iopub.execute_input": "2022-10-26T00:15:20.920177Z",
     "iopub.status.busy": "2022-10-26T00:15:20.919455Z",
     "iopub.status.idle": "2022-10-26T00:15:20.926118Z",
     "shell.execute_reply": "2022-10-26T00:15:20.925182Z"
    },
    "papermill": {
     "duration": 0.029981,
     "end_time": "2022-10-26T00:15:20.929064",
     "exception": false,
     "start_time": "2022-10-26T00:15:20.899083",
     "status": "completed"
    },
    "tags": []
   },
   "outputs": [
    {
     "name": "stdout",
     "output_type": "stream",
     "text": [
      "/kaggle/input/titanic/train.csv\n",
      "/kaggle/input/titanic/test.csv\n",
      "/kaggle/input/titanic/gender_submission.csv\n"
     ]
    }
   ],
   "source": [
    "for dirname, _, filenames in os.walk('/kaggle/input'):\n",
    "    for filename in filenames:\n",
    "        print(os.path.join(dirname, filename))"
   ]
  },
  {
   "cell_type": "code",
   "execution_count": 3,
   "id": "1236b1a1",
   "metadata": {
    "execution": {
     "iopub.execute_input": "2022-10-26T00:15:20.969913Z",
     "iopub.status.busy": "2022-10-26T00:15:20.969097Z",
     "iopub.status.idle": "2022-10-26T00:15:20.998110Z",
     "shell.execute_reply": "2022-10-26T00:15:20.997103Z"
    },
    "papermill": {
     "duration": 0.051829,
     "end_time": "2022-10-26T00:15:21.000754",
     "exception": false,
     "start_time": "2022-10-26T00:15:20.948925",
     "status": "completed"
    },
    "tags": []
   },
   "outputs": [],
   "source": [
    "df_train = pd.read_csv('/kaggle/input/titanic/train.csv')\n",
    "df_test = pd.read_csv('/kaggle/input/titanic/test.csv')"
   ]
  },
  {
   "cell_type": "markdown",
   "id": "b93590a2",
   "metadata": {
    "execution": {
     "iopub.execute_input": "2022-10-24T21:39:30.731278Z",
     "iopub.status.busy": "2022-10-24T21:39:30.730885Z",
     "iopub.status.idle": "2022-10-24T21:39:30.738287Z",
     "shell.execute_reply": "2022-10-24T21:39:30.736774Z",
     "shell.execute_reply.started": "2022-10-24T21:39:30.731246Z"
    },
    "papermill": {
     "duration": 0.018563,
     "end_time": "2022-10-26T00:15:21.038739",
     "exception": false,
     "start_time": "2022-10-26T00:15:21.020176",
     "status": "completed"
    },
    "tags": []
   },
   "source": [
    "# 👀 Data Exploration"
   ]
  },
  {
   "cell_type": "markdown",
   "id": "c8e01207",
   "metadata": {
    "execution": {
     "iopub.execute_input": "2022-10-24T22:29:57.396976Z",
     "iopub.status.busy": "2022-10-24T22:29:57.396581Z",
     "iopub.status.idle": "2022-10-24T22:29:57.403702Z",
     "shell.execute_reply": "2022-10-24T22:29:57.402463Z",
     "shell.execute_reply.started": "2022-10-24T22:29:57.396946Z"
    },
    "papermill": {
     "duration": 0.018232,
     "end_time": "2022-10-26T00:15:21.075658",
     "exception": false,
     "start_time": "2022-10-26T00:15:21.057426",
     "status": "completed"
    },
    "tags": []
   },
   "source": [
    "Here we get familiar with the data <br>"
   ]
  },
  {
   "cell_type": "code",
   "execution_count": 4,
   "id": "43db8828",
   "metadata": {
    "execution": {
     "iopub.execute_input": "2022-10-26T00:15:21.114816Z",
     "iopub.status.busy": "2022-10-26T00:15:21.114052Z",
     "iopub.status.idle": "2022-10-26T00:15:21.141775Z",
     "shell.execute_reply": "2022-10-26T00:15:21.140410Z"
    },
    "papermill": {
     "duration": 0.050937,
     "end_time": "2022-10-26T00:15:21.145153",
     "exception": false,
     "start_time": "2022-10-26T00:15:21.094216",
     "status": "completed"
    },
    "tags": []
   },
   "outputs": [
    {
     "name": "stdout",
     "output_type": "stream",
     "text": [
      "<class 'pandas.core.frame.DataFrame'>\n",
      "RangeIndex: 891 entries, 0 to 890\n",
      "Data columns (total 12 columns):\n",
      " #   Column       Non-Null Count  Dtype  \n",
      "---  ------       --------------  -----  \n",
      " 0   PassengerId  891 non-null    int64  \n",
      " 1   Survived     891 non-null    int64  \n",
      " 2   Pclass       891 non-null    int64  \n",
      " 3   Name         891 non-null    object \n",
      " 4   Sex          891 non-null    object \n",
      " 5   Age          714 non-null    float64\n",
      " 6   SibSp        891 non-null    int64  \n",
      " 7   Parch        891 non-null    int64  \n",
      " 8   Ticket       891 non-null    object \n",
      " 9   Fare         891 non-null    float64\n",
      " 10  Cabin        204 non-null    object \n",
      " 11  Embarked     889 non-null    object \n",
      "dtypes: float64(2), int64(5), object(5)\n",
      "memory usage: 83.7+ KB\n"
     ]
    }
   ],
   "source": [
    "df_train.info()"
   ]
  },
  {
   "cell_type": "code",
   "execution_count": 5,
   "id": "16a1c031",
   "metadata": {
    "execution": {
     "iopub.execute_input": "2022-10-26T00:15:21.186425Z",
     "iopub.status.busy": "2022-10-26T00:15:21.185663Z",
     "iopub.status.idle": "2022-10-26T00:15:21.212878Z",
     "shell.execute_reply": "2022-10-26T00:15:21.211987Z"
    },
    "papermill": {
     "duration": 0.05031,
     "end_time": "2022-10-26T00:15:21.215311",
     "exception": false,
     "start_time": "2022-10-26T00:15:21.165001",
     "status": "completed"
    },
    "tags": []
   },
   "outputs": [
    {
     "data": {
      "text/html": [
       "<div>\n",
       "<style scoped>\n",
       "    .dataframe tbody tr th:only-of-type {\n",
       "        vertical-align: middle;\n",
       "    }\n",
       "\n",
       "    .dataframe tbody tr th {\n",
       "        vertical-align: top;\n",
       "    }\n",
       "\n",
       "    .dataframe thead th {\n",
       "        text-align: right;\n",
       "    }\n",
       "</style>\n",
       "<table border=\"1\" class=\"dataframe\">\n",
       "  <thead>\n",
       "    <tr style=\"text-align: right;\">\n",
       "      <th></th>\n",
       "      <th>PassengerId</th>\n",
       "      <th>Survived</th>\n",
       "      <th>Pclass</th>\n",
       "      <th>Name</th>\n",
       "      <th>Sex</th>\n",
       "      <th>Age</th>\n",
       "      <th>SibSp</th>\n",
       "      <th>Parch</th>\n",
       "      <th>Ticket</th>\n",
       "      <th>Fare</th>\n",
       "      <th>Cabin</th>\n",
       "      <th>Embarked</th>\n",
       "    </tr>\n",
       "  </thead>\n",
       "  <tbody>\n",
       "    <tr>\n",
       "      <th>0</th>\n",
       "      <td>1</td>\n",
       "      <td>0</td>\n",
       "      <td>3</td>\n",
       "      <td>Braund, Mr. Owen Harris</td>\n",
       "      <td>male</td>\n",
       "      <td>22.0</td>\n",
       "      <td>1</td>\n",
       "      <td>0</td>\n",
       "      <td>A/5 21171</td>\n",
       "      <td>7.2500</td>\n",
       "      <td>NaN</td>\n",
       "      <td>S</td>\n",
       "    </tr>\n",
       "    <tr>\n",
       "      <th>1</th>\n",
       "      <td>2</td>\n",
       "      <td>1</td>\n",
       "      <td>1</td>\n",
       "      <td>Cumings, Mrs. John Bradley (Florence Briggs Th...</td>\n",
       "      <td>female</td>\n",
       "      <td>38.0</td>\n",
       "      <td>1</td>\n",
       "      <td>0</td>\n",
       "      <td>PC 17599</td>\n",
       "      <td>71.2833</td>\n",
       "      <td>C85</td>\n",
       "      <td>C</td>\n",
       "    </tr>\n",
       "    <tr>\n",
       "      <th>2</th>\n",
       "      <td>3</td>\n",
       "      <td>1</td>\n",
       "      <td>3</td>\n",
       "      <td>Heikkinen, Miss. Laina</td>\n",
       "      <td>female</td>\n",
       "      <td>26.0</td>\n",
       "      <td>0</td>\n",
       "      <td>0</td>\n",
       "      <td>STON/O2. 3101282</td>\n",
       "      <td>7.9250</td>\n",
       "      <td>NaN</td>\n",
       "      <td>S</td>\n",
       "    </tr>\n",
       "    <tr>\n",
       "      <th>3</th>\n",
       "      <td>4</td>\n",
       "      <td>1</td>\n",
       "      <td>1</td>\n",
       "      <td>Futrelle, Mrs. Jacques Heath (Lily May Peel)</td>\n",
       "      <td>female</td>\n",
       "      <td>35.0</td>\n",
       "      <td>1</td>\n",
       "      <td>0</td>\n",
       "      <td>113803</td>\n",
       "      <td>53.1000</td>\n",
       "      <td>C123</td>\n",
       "      <td>S</td>\n",
       "    </tr>\n",
       "    <tr>\n",
       "      <th>4</th>\n",
       "      <td>5</td>\n",
       "      <td>0</td>\n",
       "      <td>3</td>\n",
       "      <td>Allen, Mr. William Henry</td>\n",
       "      <td>male</td>\n",
       "      <td>35.0</td>\n",
       "      <td>0</td>\n",
       "      <td>0</td>\n",
       "      <td>373450</td>\n",
       "      <td>8.0500</td>\n",
       "      <td>NaN</td>\n",
       "      <td>S</td>\n",
       "    </tr>\n",
       "  </tbody>\n",
       "</table>\n",
       "</div>"
      ],
      "text/plain": [
       "   PassengerId  Survived  Pclass  \\\n",
       "0            1         0       3   \n",
       "1            2         1       1   \n",
       "2            3         1       3   \n",
       "3            4         1       1   \n",
       "4            5         0       3   \n",
       "\n",
       "                                                Name     Sex   Age  SibSp  \\\n",
       "0                            Braund, Mr. Owen Harris    male  22.0      1   \n",
       "1  Cumings, Mrs. John Bradley (Florence Briggs Th...  female  38.0      1   \n",
       "2                             Heikkinen, Miss. Laina  female  26.0      0   \n",
       "3       Futrelle, Mrs. Jacques Heath (Lily May Peel)  female  35.0      1   \n",
       "4                           Allen, Mr. William Henry    male  35.0      0   \n",
       "\n",
       "   Parch            Ticket     Fare Cabin Embarked  \n",
       "0      0         A/5 21171   7.2500   NaN        S  \n",
       "1      0          PC 17599  71.2833   C85        C  \n",
       "2      0  STON/O2. 3101282   7.9250   NaN        S  \n",
       "3      0            113803  53.1000  C123        S  \n",
       "4      0            373450   8.0500   NaN        S  "
      ]
     },
     "execution_count": 5,
     "metadata": {},
     "output_type": "execute_result"
    }
   ],
   "source": [
    "df_train.head()"
   ]
  },
  {
   "cell_type": "code",
   "execution_count": 6,
   "id": "f6278fdd",
   "metadata": {
    "execution": {
     "iopub.execute_input": "2022-10-26T00:15:21.255905Z",
     "iopub.status.busy": "2022-10-26T00:15:21.255230Z",
     "iopub.status.idle": "2022-10-26T00:15:21.290592Z",
     "shell.execute_reply": "2022-10-26T00:15:21.289358Z"
    },
    "papermill": {
     "duration": 0.058398,
     "end_time": "2022-10-26T00:15:21.292980",
     "exception": false,
     "start_time": "2022-10-26T00:15:21.234582",
     "status": "completed"
    },
    "tags": []
   },
   "outputs": [
    {
     "data": {
      "text/html": [
       "<div>\n",
       "<style scoped>\n",
       "    .dataframe tbody tr th:only-of-type {\n",
       "        vertical-align: middle;\n",
       "    }\n",
       "\n",
       "    .dataframe tbody tr th {\n",
       "        vertical-align: top;\n",
       "    }\n",
       "\n",
       "    .dataframe thead th {\n",
       "        text-align: right;\n",
       "    }\n",
       "</style>\n",
       "<table border=\"1\" class=\"dataframe\">\n",
       "  <thead>\n",
       "    <tr style=\"text-align: right;\">\n",
       "      <th></th>\n",
       "      <th>PassengerId</th>\n",
       "      <th>Survived</th>\n",
       "      <th>Pclass</th>\n",
       "      <th>Age</th>\n",
       "      <th>SibSp</th>\n",
       "      <th>Parch</th>\n",
       "      <th>Fare</th>\n",
       "    </tr>\n",
       "  </thead>\n",
       "  <tbody>\n",
       "    <tr>\n",
       "      <th>count</th>\n",
       "      <td>891.000000</td>\n",
       "      <td>891.000000</td>\n",
       "      <td>891.000000</td>\n",
       "      <td>714.000000</td>\n",
       "      <td>891.000000</td>\n",
       "      <td>891.000000</td>\n",
       "      <td>891.000000</td>\n",
       "    </tr>\n",
       "    <tr>\n",
       "      <th>mean</th>\n",
       "      <td>446.000000</td>\n",
       "      <td>0.383838</td>\n",
       "      <td>2.308642</td>\n",
       "      <td>29.699118</td>\n",
       "      <td>0.523008</td>\n",
       "      <td>0.381594</td>\n",
       "      <td>32.204208</td>\n",
       "    </tr>\n",
       "    <tr>\n",
       "      <th>std</th>\n",
       "      <td>257.353842</td>\n",
       "      <td>0.486592</td>\n",
       "      <td>0.836071</td>\n",
       "      <td>14.526497</td>\n",
       "      <td>1.102743</td>\n",
       "      <td>0.806057</td>\n",
       "      <td>49.693429</td>\n",
       "    </tr>\n",
       "    <tr>\n",
       "      <th>min</th>\n",
       "      <td>1.000000</td>\n",
       "      <td>0.000000</td>\n",
       "      <td>1.000000</td>\n",
       "      <td>0.420000</td>\n",
       "      <td>0.000000</td>\n",
       "      <td>0.000000</td>\n",
       "      <td>0.000000</td>\n",
       "    </tr>\n",
       "    <tr>\n",
       "      <th>25%</th>\n",
       "      <td>223.500000</td>\n",
       "      <td>0.000000</td>\n",
       "      <td>2.000000</td>\n",
       "      <td>20.125000</td>\n",
       "      <td>0.000000</td>\n",
       "      <td>0.000000</td>\n",
       "      <td>7.910400</td>\n",
       "    </tr>\n",
       "    <tr>\n",
       "      <th>50%</th>\n",
       "      <td>446.000000</td>\n",
       "      <td>0.000000</td>\n",
       "      <td>3.000000</td>\n",
       "      <td>28.000000</td>\n",
       "      <td>0.000000</td>\n",
       "      <td>0.000000</td>\n",
       "      <td>14.454200</td>\n",
       "    </tr>\n",
       "    <tr>\n",
       "      <th>75%</th>\n",
       "      <td>668.500000</td>\n",
       "      <td>1.000000</td>\n",
       "      <td>3.000000</td>\n",
       "      <td>38.000000</td>\n",
       "      <td>1.000000</td>\n",
       "      <td>0.000000</td>\n",
       "      <td>31.000000</td>\n",
       "    </tr>\n",
       "    <tr>\n",
       "      <th>max</th>\n",
       "      <td>891.000000</td>\n",
       "      <td>1.000000</td>\n",
       "      <td>3.000000</td>\n",
       "      <td>80.000000</td>\n",
       "      <td>8.000000</td>\n",
       "      <td>6.000000</td>\n",
       "      <td>512.329200</td>\n",
       "    </tr>\n",
       "  </tbody>\n",
       "</table>\n",
       "</div>"
      ],
      "text/plain": [
       "       PassengerId    Survived      Pclass         Age       SibSp  \\\n",
       "count   891.000000  891.000000  891.000000  714.000000  891.000000   \n",
       "mean    446.000000    0.383838    2.308642   29.699118    0.523008   \n",
       "std     257.353842    0.486592    0.836071   14.526497    1.102743   \n",
       "min       1.000000    0.000000    1.000000    0.420000    0.000000   \n",
       "25%     223.500000    0.000000    2.000000   20.125000    0.000000   \n",
       "50%     446.000000    0.000000    3.000000   28.000000    0.000000   \n",
       "75%     668.500000    1.000000    3.000000   38.000000    1.000000   \n",
       "max     891.000000    1.000000    3.000000   80.000000    8.000000   \n",
       "\n",
       "            Parch        Fare  \n",
       "count  891.000000  891.000000  \n",
       "mean     0.381594   32.204208  \n",
       "std      0.806057   49.693429  \n",
       "min      0.000000    0.000000  \n",
       "25%      0.000000    7.910400  \n",
       "50%      0.000000   14.454200  \n",
       "75%      0.000000   31.000000  \n",
       "max      6.000000  512.329200  "
      ]
     },
     "execution_count": 6,
     "metadata": {},
     "output_type": "execute_result"
    }
   ],
   "source": [
    "df_train.describe()"
   ]
  },
  {
   "cell_type": "markdown",
   "id": "8685f60f",
   "metadata": {
    "papermill": {
     "duration": 0.018792,
     "end_time": "2022-10-26T00:15:21.331111",
     "exception": false,
     "start_time": "2022-10-26T00:15:21.312319",
     "status": "completed"
    },
    "tags": []
   },
   "source": [
    "**📝 Takeaways** \n",
    "* Fare ranges between 0 - 512.3, SibSp between 0 - 8. This is a wide range and will be adressed during Pre Processing\n",
    "* It also looks like Pclass could be modeled as a categorical feature\n"
   ]
  },
  {
   "cell_type": "code",
   "execution_count": 7,
   "id": "c706f6a3",
   "metadata": {
    "execution": {
     "iopub.execute_input": "2022-10-26T00:15:21.371848Z",
     "iopub.status.busy": "2022-10-26T00:15:21.371150Z",
     "iopub.status.idle": "2022-10-26T00:15:21.380524Z",
     "shell.execute_reply": "2022-10-26T00:15:21.378934Z"
    },
    "papermill": {
     "duration": 0.033105,
     "end_time": "2022-10-26T00:15:21.383594",
     "exception": false,
     "start_time": "2022-10-26T00:15:21.350489",
     "status": "completed"
    },
    "tags": []
   },
   "outputs": [
    {
     "name": "stdout",
     "output_type": "stream",
     "text": [
      "Pclass n of unique values: 3\n",
      "Pclass unique values:      [3 1 2]\n"
     ]
    }
   ],
   "source": [
    "print(f\"Pclass n of unique values: {df_train['Pclass'].nunique()}\")\n",
    "print(f\"Pclass unique values:      {df_train['Pclass'].unique()}\")"
   ]
  },
  {
   "cell_type": "code",
   "execution_count": 8,
   "id": "8497a7e9",
   "metadata": {
    "execution": {
     "iopub.execute_input": "2022-10-26T00:15:21.424490Z",
     "iopub.status.busy": "2022-10-26T00:15:21.424079Z",
     "iopub.status.idle": "2022-10-26T00:15:21.433290Z",
     "shell.execute_reply": "2022-10-26T00:15:21.431992Z"
    },
    "papermill": {
     "duration": 0.032217,
     "end_time": "2022-10-26T00:15:21.435714",
     "exception": false,
     "start_time": "2022-10-26T00:15:21.403497",
     "status": "completed"
    },
    "tags": []
   },
   "outputs": [],
   "source": [
    "df_train['Pclass'] = df_train['Pclass'].map({1:'Upper', 2:'Middle', 3:'Lower'})\n",
    "df_test['Pclass'] = df_test['Pclass'].map({1:'Upper', 2:'Middle', 3:'Lower'})"
   ]
  },
  {
   "cell_type": "markdown",
   "id": "ac663fec",
   "metadata": {
    "execution": {
     "iopub.execute_input": "2022-10-24T22:33:27.642152Z",
     "iopub.status.busy": "2022-10-24T22:33:27.641748Z",
     "iopub.status.idle": "2022-10-24T22:33:27.649578Z",
     "shell.execute_reply": "2022-10-24T22:33:27.647789Z",
     "shell.execute_reply.started": "2022-10-24T22:33:27.642109Z"
    },
    "papermill": {
     "duration": 0.019415,
     "end_time": "2022-10-26T00:15:21.474612",
     "exception": false,
     "start_time": "2022-10-26T00:15:21.455197",
     "status": "completed"
    },
    "tags": []
   },
   "source": [
    "**📝 Takeaways** <br>\n",
    "* Pclass has 3 unique values (1: Upper Class, 2: Middle Class, 3: Lower Class)\n",
    "* We can translate it into a categorical feature\n",
    "\n",
    "\n",
    "<br>While we are at, we can look at the other categorical features."
   ]
  },
  {
   "cell_type": "code",
   "execution_count": 9,
   "id": "7402618c",
   "metadata": {
    "execution": {
     "iopub.execute_input": "2022-10-26T00:15:21.515431Z",
     "iopub.status.busy": "2022-10-26T00:15:21.514985Z",
     "iopub.status.idle": "2022-10-26T00:15:21.528037Z",
     "shell.execute_reply": "2022-10-26T00:15:21.527008Z"
    },
    "papermill": {
     "duration": 0.036063,
     "end_time": "2022-10-26T00:15:21.530522",
     "exception": false,
     "start_time": "2022-10-26T00:15:21.494459",
     "status": "completed"
    },
    "tags": []
   },
   "outputs": [
    {
     "data": {
      "text/plain": [
       "Pclass        3\n",
       "Name        891\n",
       "Sex           2\n",
       "Ticket      681\n",
       "Cabin       147\n",
       "Embarked      3\n",
       "dtype: int64"
      ]
     },
     "execution_count": 9,
     "metadata": {},
     "output_type": "execute_result"
    }
   ],
   "source": [
    "df_train.select_dtypes(include = 'object').nunique()"
   ]
  },
  {
   "cell_type": "code",
   "execution_count": 10,
   "id": "c0d1ce16",
   "metadata": {
    "execution": {
     "iopub.execute_input": "2022-10-26T00:15:21.571540Z",
     "iopub.status.busy": "2022-10-26T00:15:21.571125Z",
     "iopub.status.idle": "2022-10-26T00:15:21.578871Z",
     "shell.execute_reply": "2022-10-26T00:15:21.577913Z"
    },
    "papermill": {
     "duration": 0.031098,
     "end_time": "2022-10-26T00:15:21.581141",
     "exception": false,
     "start_time": "2022-10-26T00:15:21.550043",
     "status": "completed"
    },
    "tags": []
   },
   "outputs": [],
   "source": [
    "df_train['Embarked'] = df_train['Embarked'].map({'C':'Cherbourg', 'Q':'Queenstown', 'S':'Southampton'})\n",
    "df_test['Embarked'] = df_test['Embarked'].map({'C':'Cherbourg', 'Q':'Queenstown', 'S':'Southampton'})"
   ]
  },
  {
   "cell_type": "markdown",
   "id": "622d6155",
   "metadata": {
    "papermill": {
     "duration": 0.018985,
     "end_time": "2022-10-26T00:15:21.619780",
     "exception": false,
     "start_time": "2022-10-26T00:15:21.600795",
     "status": "completed"
    },
    "tags": []
   },
   "source": [
    "**📝 Takeaways**<br>\n",
    "* Sex as defined in the data documentary: female, male\n",
    "* Embarked can be mapped according to data documentation (C = Cherbourg, Q = Queenstown, S = Southampton) for clearer readablity\n",
    "\n",
    "The other categorical features need a closer look, starting with Name."
   ]
  },
  {
   "cell_type": "code",
   "execution_count": 11,
   "id": "82ac2062",
   "metadata": {
    "execution": {
     "iopub.execute_input": "2022-10-26T00:15:21.661675Z",
     "iopub.status.busy": "2022-10-26T00:15:21.661250Z",
     "iopub.status.idle": "2022-10-26T00:15:21.669440Z",
     "shell.execute_reply": "2022-10-26T00:15:21.668115Z"
    },
    "papermill": {
     "duration": 0.032852,
     "end_time": "2022-10-26T00:15:21.672059",
     "exception": false,
     "start_time": "2022-10-26T00:15:21.639207",
     "status": "completed"
    },
    "tags": []
   },
   "outputs": [
    {
     "data": {
      "text/plain": [
       "0                              Braund, Mr. Owen Harris\n",
       "1    Cumings, Mrs. John Bradley (Florence Briggs Th...\n",
       "2                               Heikkinen, Miss. Laina\n",
       "3         Futrelle, Mrs. Jacques Heath (Lily May Peel)\n",
       "4                             Allen, Mr. William Henry\n",
       "Name: Name, dtype: object"
      ]
     },
     "execution_count": 11,
     "metadata": {},
     "output_type": "execute_result"
    }
   ],
   "source": [
    "df_train['Name'].head()"
   ]
  },
  {
   "cell_type": "code",
   "execution_count": 12,
   "id": "61cc5ccf",
   "metadata": {
    "execution": {
     "iopub.execute_input": "2022-10-26T00:15:21.713580Z",
     "iopub.status.busy": "2022-10-26T00:15:21.713162Z",
     "iopub.status.idle": "2022-10-26T00:15:21.720976Z",
     "shell.execute_reply": "2022-10-26T00:15:21.719855Z"
    },
    "papermill": {
     "duration": 0.031086,
     "end_time": "2022-10-26T00:15:21.723325",
     "exception": false,
     "start_time": "2022-10-26T00:15:21.692239",
     "status": "completed"
    },
    "tags": []
   },
   "outputs": [
    {
     "data": {
      "text/plain": [
       "False"
      ]
     },
     "execution_count": 12,
     "metadata": {},
     "output_type": "execute_result"
    }
   ],
   "source": [
    "df_train['Name'].duplicated().any()"
   ]
  },
  {
   "cell_type": "markdown",
   "id": "5e8890c8",
   "metadata": {
    "papermill": {
     "duration": 0.019802,
     "end_time": "2022-10-26T00:15:21.762953",
     "exception": false,
     "start_time": "2022-10-26T00:15:21.743151",
     "status": "completed"
    },
    "tags": []
   },
   "source": [
    "**📝 Takeaways**<br>\n",
    "* The Name is mostly unstructured free text\n",
    "* There are no duplicates in the train set\n",
    "* The title (Mr., Ms., etc) is contained in the name, it might be interesting to scan for interesting titles such as acdemia, royalty or military"
   ]
  },
  {
   "cell_type": "code",
   "execution_count": 13,
   "id": "4dc05988",
   "metadata": {
    "execution": {
     "iopub.execute_input": "2022-10-26T00:15:21.804192Z",
     "iopub.status.busy": "2022-10-26T00:15:21.803715Z",
     "iopub.status.idle": "2022-10-26T00:15:21.816778Z",
     "shell.execute_reply": "2022-10-26T00:15:21.815663Z"
    },
    "papermill": {
     "duration": 0.03637,
     "end_time": "2022-10-26T00:15:21.818997",
     "exception": false,
     "start_time": "2022-10-26T00:15:21.782627",
     "status": "completed"
    },
    "tags": []
   },
   "outputs": [
    {
     "data": {
      "text/plain": [
       "Mr.        517\n",
       "Miss.      182\n",
       "Mrs.       125\n",
       "William     62\n",
       "John        44\n",
       "Master.     40\n",
       "Henry       33\n",
       "James       24\n",
       "Charles     23\n",
       "George      22\n",
       "Name: Name, dtype: int64"
      ]
     },
     "execution_count": 13,
     "metadata": {},
     "output_type": "execute_result"
    }
   ],
   "source": [
    "df_train['Name'].str.split().explode().value_counts()[:10]"
   ]
  },
  {
   "cell_type": "code",
   "execution_count": 14,
   "id": "0ca66036",
   "metadata": {
    "execution": {
     "iopub.execute_input": "2022-10-26T00:15:21.860387Z",
     "iopub.status.busy": "2022-10-26T00:15:21.859914Z",
     "iopub.status.idle": "2022-10-26T00:15:22.317757Z",
     "shell.execute_reply": "2022-10-26T00:15:22.316389Z"
    },
    "papermill": {
     "duration": 0.483919,
     "end_time": "2022-10-26T00:15:22.322642",
     "exception": false,
     "start_time": "2022-10-26T00:15:21.838723",
     "status": "completed"
    },
    "tags": []
   },
   "outputs": [
    {
     "data": {
      "image/png": "[encoded data removed]",
      "text/plain": [
       "<Figure size 1440x360 with 1 Axes>"
      ]
     },
     "metadata": {
      "needs_background": "light"
     },
     "output_type": "display_data"
    }
   ],
   "source": [
    "wordcloud = WordCloud(background_color = \"white\", relative_scaling=.5).generate(df_train['Name'].str.cat())\n",
    "plt.figure(figsize=(20, 5))\n",
    "plt.imshow(wordcloud)\n",
    "plt.axis(\"off\")\n",
    "plt.show()"
   ]
  },
  {
   "cell_type": "markdown",
   "id": "21499942",
   "metadata": {
    "papermill": {
     "duration": 0.024453,
     "end_time": "2022-10-26T00:15:22.371981",
     "exception": false,
     "start_time": "2022-10-26T00:15:22.347528",
     "status": "completed"
    },
    "tags": []
   },
   "source": [
    "**📝 Takeaways**\n",
    "* William was a popular name in the early 20th century\n",
    "* The titles mostly describe gender, which we already have stored in the feature Gender\n",
    "* Master. title looks interesting, but is only the full form of Mr."
   ]
  },
  {
   "cell_type": "markdown",
   "id": "480ef4df",
   "metadata": {
    "papermill": {
     "duration": 0.024222,
     "end_time": "2022-10-26T00:15:22.420852",
     "exception": false,
     "start_time": "2022-10-26T00:15:22.396630",
     "status": "completed"
    },
    "tags": []
   },
   "source": [
    "<figure>\n",
    "    <blockquote cite=\"http://hwj.oxfordjournals.org/content/78/1/39.full\">\n",
    "        <p>‘Mistress’ is the root word of both of the abbreviations ‘Mrs’ and ‘Miss’, just as Mr is an abbreviation of ‘Master’. The ways that words derived from Mistress have developed their own meanings is fascinating and shifts in these meanings can tell us a lot about the changing status of women.\"</p>\n",
    "    </blockquote>\n",
    "    <figcaption>— Amy Erickson, <cite>Mistresses and Marriage: or, a Short History of the Mrs</cite></figcaption>\n",
    "</figure>"
   ]
  },
  {
   "cell_type": "markdown",
   "id": "40ff7669",
   "metadata": {
    "papermill": {
     "duration": 0.02427,
     "end_time": "2022-10-26T00:15:22.469626",
     "exception": false,
     "start_time": "2022-10-26T00:15:22.445356",
     "status": "completed"
    },
    "tags": []
   },
   "source": [
    "Note: We might not have grabed every title, since we are going by frequency. However, if the title only occurs rarely, it is not interesting to us. In the wordcloud we can find Dr, but there are not enough occurances to factor it in.<br><br>\n",
    "Let's look at Ticket next."
   ]
  },
  {
   "cell_type": "code",
   "execution_count": 15,
   "id": "32975e48",
   "metadata": {
    "execution": {
     "iopub.execute_input": "2022-10-26T00:15:22.521362Z",
     "iopub.status.busy": "2022-10-26T00:15:22.520559Z",
     "iopub.status.idle": "2022-10-26T00:15:22.527857Z",
     "shell.execute_reply": "2022-10-26T00:15:22.527017Z"
    },
    "papermill": {
     "duration": 0.035506,
     "end_time": "2022-10-26T00:15:22.529966",
     "exception": false,
     "start_time": "2022-10-26T00:15:22.494460",
     "status": "completed"
    },
    "tags": []
   },
   "outputs": [
    {
     "data": {
      "text/plain": [
       "0           A/5 21171\n",
       "1            PC 17599\n",
       "2    STON/O2. 3101282\n",
       "3              113803\n",
       "4              373450\n",
       "Name: Ticket, dtype: object"
      ]
     },
     "execution_count": 15,
     "metadata": {},
     "output_type": "execute_result"
    }
   ],
   "source": [
    "df_train['Ticket'].head()"
   ]
  },
  {
   "cell_type": "code",
   "execution_count": 16,
   "id": "80afd9b8",
   "metadata": {
    "execution": {
     "iopub.execute_input": "2022-10-26T00:15:22.581695Z",
     "iopub.status.busy": "2022-10-26T00:15:22.580939Z",
     "iopub.status.idle": "2022-10-26T00:15:22.589877Z",
     "shell.execute_reply": "2022-10-26T00:15:22.588931Z"
    },
    "papermill": {
     "duration": 0.037215,
     "end_time": "2022-10-26T00:15:22.591946",
     "exception": false,
     "start_time": "2022-10-26T00:15:22.554731",
     "status": "completed"
    },
    "tags": []
   },
   "outputs": [
    {
     "data": {
      "text/plain": [
       "347082      7\n",
       "CA. 2343    7\n",
       "1601        7\n",
       "3101295     6\n",
       "CA 2144     6\n",
       "           ..\n",
       "9234        1\n",
       "19988       1\n",
       "2693        1\n",
       "PC 17612    1\n",
       "370376      1\n",
       "Name: Ticket, Length: 681, dtype: int64"
      ]
     },
     "execution_count": 16,
     "metadata": {},
     "output_type": "execute_result"
    }
   ],
   "source": [
    "df_train['Ticket'].value_counts()"
   ]
  },
  {
   "cell_type": "markdown",
   "id": "617aaa35",
   "metadata": {
    "papermill": {
     "duration": 0.025528,
     "end_time": "2022-10-26T00:15:22.643179",
     "exception": false,
     "start_time": "2022-10-26T00:15:22.617651",
     "status": "completed"
    },
    "tags": []
   },
   "source": [
    "**📝 Takeaways**<br>\n",
    "* Ticket seems to be unstructured and doesn't hold any relevant information\n",
    "* Ticket should be removed during Pre Processing\n",
    "\n",
    "The last categorical variable is Cabin."
   ]
  },
  {
   "cell_type": "code",
   "execution_count": 17,
   "id": "091f39ea",
   "metadata": {
    "execution": {
     "iopub.execute_input": "2022-10-26T00:15:22.696759Z",
     "iopub.status.busy": "2022-10-26T00:15:22.696001Z",
     "iopub.status.idle": "2022-10-26T00:15:22.703615Z",
     "shell.execute_reply": "2022-10-26T00:15:22.702367Z"
    },
    "papermill": {
     "duration": 0.036588,
     "end_time": "2022-10-26T00:15:22.705852",
     "exception": false,
     "start_time": "2022-10-26T00:15:22.669264",
     "status": "completed"
    },
    "tags": []
   },
   "outputs": [
    {
     "data": {
      "text/plain": [
       "0     NaN\n",
       "1     C85\n",
       "2     NaN\n",
       "3    C123\n",
       "4     NaN\n",
       "5     NaN\n",
       "6     E46\n",
       "7     NaN\n",
       "8     NaN\n",
       "9     NaN\n",
       "Name: Cabin, dtype: object"
      ]
     },
     "execution_count": 17,
     "metadata": {},
     "output_type": "execute_result"
    }
   ],
   "source": [
    "df_train['Cabin'].head(10)"
   ]
  },
  {
   "cell_type": "code",
   "execution_count": 18,
   "id": "befb44cb",
   "metadata": {
    "execution": {
     "iopub.execute_input": "2022-10-26T00:15:22.758184Z",
     "iopub.status.busy": "2022-10-26T00:15:22.757422Z",
     "iopub.status.idle": "2022-10-26T00:15:22.764210Z",
     "shell.execute_reply": "2022-10-26T00:15:22.762999Z"
    },
    "papermill": {
     "duration": 0.035361,
     "end_time": "2022-10-26T00:15:22.766616",
     "exception": false,
     "start_time": "2022-10-26T00:15:22.731255",
     "status": "completed"
    },
    "tags": []
   },
   "outputs": [
    {
     "name": "stdout",
     "output_type": "stream",
     "text": [
      "Percentage of NaN in Cabin: 77.1%\n"
     ]
    }
   ],
   "source": [
    "m = df_train.shape[0]\n",
    "df_train_cabin_na = (df_train['Cabin'].isnull().sum() / m) * 100\n",
    "print(f'Percentage of NaN in Cabin: {round(df_train_cabin_na, 1)}%')"
   ]
  },
  {
   "cell_type": "code",
   "execution_count": 19,
   "id": "94598e9f",
   "metadata": {
    "execution": {
     "iopub.execute_input": "2022-10-26T00:15:22.818436Z",
     "iopub.status.busy": "2022-10-26T00:15:22.817988Z",
     "iopub.status.idle": "2022-10-26T00:15:22.827965Z",
     "shell.execute_reply": "2022-10-26T00:15:22.826785Z"
    },
    "papermill": {
     "duration": 0.038868,
     "end_time": "2022-10-26T00:15:22.830459",
     "exception": false,
     "start_time": "2022-10-26T00:15:22.791591",
     "status": "completed"
    },
    "tags": []
   },
   "outputs": [
    {
     "data": {
      "text/plain": [
       "B96 B98        4\n",
       "G6             4\n",
       "C23 C25 C27    4\n",
       "C22 C26        3\n",
       "F33            3\n",
       "              ..\n",
       "E34            1\n",
       "C7             1\n",
       "C54            1\n",
       "E36            1\n",
       "C148           1\n",
       "Name: Cabin, Length: 147, dtype: int64"
      ]
     },
     "execution_count": 19,
     "metadata": {},
     "output_type": "execute_result"
    }
   ],
   "source": [
    "df_train['Cabin'].value_counts()"
   ]
  },
  {
   "cell_type": "markdown",
   "id": "22946dbd",
   "metadata": {
    "papermill": {
     "duration": 0.02488,
     "end_time": "2022-10-26T00:15:22.880487",
     "exception": false,
     "start_time": "2022-10-26T00:15:22.855607",
     "status": "completed"
    },
    "tags": []
   },
   "source": [
    "**📝 Takeaways** <br>\n",
    "\n",
    "* Cabin is often NaN\n",
    "* Cabin is mostly unstructured and can hold multiple tokens\n",
    "* Cabin seems to describe the section of the ship and the number of the room"
   ]
  },
  {
   "cell_type": "markdown",
   "id": "d324513d",
   "metadata": {
    "papermill": {
     "duration": 0.024929,
     "end_time": "2022-10-26T00:15:22.930435",
     "exception": false,
     "start_time": "2022-10-26T00:15:22.905506",
     "status": "completed"
    },
    "tags": []
   },
   "source": [
    "<p><img style=\"float:left; margin:20px; padding:20px; max-height:500px\" src=\"https://www.ggarchives.com/DigitalAssets/Books/LossOfTheSteamshipTitanic/1912/89-TransverseAmidshipSectionOfTitanic-500.jpg\"></p>\n",
    "<p style=\"text-align:justify;\">\n",
    "    In this illustration, we can see that the decks range from A to G, so that assumption might be right. This would be interesting to extract and check for correlation to Survived.<br>\n",
    "However, since there are 77% of the entries missing, we can't use this feature and will remove it in Pre Processing. <br>\n",
    "In the next step, we should check the rest of the features for NaN values<br><br>\n",
    "Image Source: <a href=\"https://www.ggarchives.com/OceanTravel/Titanic/25-Images-DeckPlans.html\">ggarchives.com</a>"
   ]
  },
  {
   "cell_type": "code",
   "execution_count": 20,
   "id": "ab70c430",
   "metadata": {
    "execution": {
     "iopub.execute_input": "2022-10-26T00:15:22.982896Z",
     "iopub.status.busy": "2022-10-26T00:15:22.981713Z",
     "iopub.status.idle": "2022-10-26T00:15:22.991905Z",
     "shell.execute_reply": "2022-10-26T00:15:22.990769Z"
    },
    "papermill": {
     "duration": 0.038801,
     "end_time": "2022-10-26T00:15:22.994174",
     "exception": false,
     "start_time": "2022-10-26T00:15:22.955373",
     "status": "completed"
    },
    "tags": []
   },
   "outputs": [
    {
     "data": {
      "text/plain": [
       "Cabin          687\n",
       "Age            177\n",
       "Embarked         2\n",
       "PassengerId      0\n",
       "Survived         0\n",
       "Pclass           0\n",
       "Name             0\n",
       "Sex              0\n",
       "SibSp            0\n",
       "Parch            0\n",
       "Ticket           0\n",
       "Fare             0\n",
       "dtype: int64"
      ]
     },
     "execution_count": 20,
     "metadata": {},
     "output_type": "execute_result"
    }
   ],
   "source": [
    "df_train.isnull().sum().sort_values(ascending = False)"
   ]
  },
  {
   "cell_type": "markdown",
   "id": "79e6925c",
   "metadata": {
    "papermill": {
     "duration": 0.024823,
     "end_time": "2022-10-26T00:15:23.044312",
     "exception": false,
     "start_time": "2022-10-26T00:15:23.019489",
     "status": "completed"
    },
    "tags": []
   },
   "source": [
    "**📝 Takeaways**<br>\n",
    "* Cabin and Age have high NaN count\n",
    "* Cabin should be removed in Pre Processing\n",
    "* Age should be cleared in Pre Processing, as it has a lower NaN count and seems more promising\n",
    "* Embarked should be cleared in Pre Processing\n",
    "\n",
    "Now that we have a feel for the data, we will start visualizations."
   ]
  },
  {
   "cell_type": "markdown",
   "id": "5b11c09d",
   "metadata": {
    "papermill": {
     "duration": 0.024862,
     "end_time": "2022-10-26T00:15:23.094321",
     "exception": false,
     "start_time": "2022-10-26T00:15:23.069459",
     "status": "completed"
    },
    "tags": []
   },
   "source": [
    "# 📊 Data Visualization"
   ]
  },
  {
   "cell_type": "markdown",
   "id": "5e6641cc",
   "metadata": {
    "papermill": {
     "duration": 0.02476,
     "end_time": "2022-10-26T00:15:23.144481",
     "exception": false,
     "start_time": "2022-10-26T00:15:23.119721",
     "status": "completed"
    },
    "tags": []
   },
   "source": [
    "## Survived"
   ]
  },
  {
   "cell_type": "code",
   "execution_count": 21,
   "id": "95ad2c94",
   "metadata": {
    "execution": {
     "iopub.execute_input": "2022-10-26T00:15:23.196400Z",
     "iopub.status.busy": "2022-10-26T00:15:23.195652Z",
     "iopub.status.idle": "2022-10-26T00:15:23.342785Z",
     "shell.execute_reply": "2022-10-26T00:15:23.341567Z"
    },
    "papermill": {
     "duration": 0.176133,
     "end_time": "2022-10-26T00:15:23.345535",
     "exception": false,
     "start_time": "2022-10-26T00:15:23.169402",
     "status": "completed"
    },
    "tags": []
   },
   "outputs": [
    {
     "data": {
      "image/png": "[encoded data removed]",
      "text/plain": [
       "<Figure size 432x288 with 1 Axes>"
      ]
     },
     "metadata": {
      "needs_background": "light"
     },
     "output_type": "display_data"
    }
   ],
   "source": [
    "sns.countplot(x = df_train['Survived']).set_title('Survived vs. Deceased');"
   ]
  },
  {
   "cell_type": "markdown",
   "id": "e4717509",
   "metadata": {
    "papermill": {
     "duration": 0.025037,
     "end_time": "2022-10-26T00:15:23.395848",
     "exception": false,
     "start_time": "2022-10-26T00:15:23.370811",
     "status": "completed"
    },
    "tags": []
   },
   "source": [
    "**📝 Takeaways**\n",
    "* Just over a third of the people survied"
   ]
  },
  {
   "cell_type": "markdown",
   "id": "4ce2f152",
   "metadata": {
    "execution": {
     "iopub.execute_input": "2022-10-25T17:39:47.764768Z",
     "iopub.status.busy": "2022-10-25T17:39:47.764333Z",
     "iopub.status.idle": "2022-10-25T17:39:47.770026Z",
     "shell.execute_reply": "2022-10-25T17:39:47.768317Z",
     "shell.execute_reply.started": "2022-10-25T17:39:47.764732Z"
    },
    "papermill": {
     "duration": 0.026225,
     "end_time": "2022-10-26T00:15:23.447726",
     "exception": false,
     "start_time": "2022-10-26T00:15:23.421501",
     "status": "completed"
    },
    "tags": []
   },
   "source": [
    "## Sex"
   ]
  },
  {
   "cell_type": "code",
   "execution_count": 22,
   "id": "8df078e9",
   "metadata": {
    "execution": {
     "iopub.execute_input": "2022-10-26T00:15:23.500073Z",
     "iopub.status.busy": "2022-10-26T00:15:23.499512Z",
     "iopub.status.idle": "2022-10-26T00:15:23.831978Z",
     "shell.execute_reply": "2022-10-26T00:15:23.830786Z"
    },
    "papermill": {
     "duration": 0.361418,
     "end_time": "2022-10-26T00:15:23.834311",
     "exception": false,
     "start_time": "2022-10-26T00:15:23.472893",
     "status": "completed"
    },
    "tags": []
   },
   "outputs": [
    {
     "data": {
      "image/png": "[encoded data removed]",
      "text/plain": [
       "<Figure size 1440x360 with 2 Axes>"
      ]
     },
     "metadata": {
      "needs_background": "light"
     },
     "output_type": "display_data"
    }
   ],
   "source": [
    "fig, axes = plt.subplots(1, 2, figsize=(20, 5))\n",
    "\n",
    "sns.countplot(ax = axes[0], x = df_train['Sex']).set_title('Sex distribution')\n",
    "sns.barplot(ax = axes[1], data = df_train, x = \"Sex\", y = \"Survived\").set_title('Survival rate by sex');"
   ]
  },
  {
   "cell_type": "markdown",
   "id": "da8fb4df",
   "metadata": {
    "papermill": {
     "duration": 0.025392,
     "end_time": "2022-10-26T00:15:23.885456",
     "exception": false,
     "start_time": "2022-10-26T00:15:23.860064",
     "status": "completed"
    },
    "tags": []
   },
   "source": [
    "**📝 Takeaways**\n",
    "* Most travelers were male\n",
    "* The survival rate for females is higher\n",
    "\n",
    "See: <a href=\"https://en.wikipedia.org/wiki/Women_and_children_first\">Wikipedia</a>"
   ]
  },
  {
   "cell_type": "markdown",
   "id": "d8b2f76d",
   "metadata": {
    "papermill": {
     "duration": 0.02547,
     "end_time": "2022-10-26T00:15:23.936671",
     "exception": false,
     "start_time": "2022-10-26T00:15:23.911201",
     "status": "completed"
    },
    "tags": []
   },
   "source": [
    "## Pclass"
   ]
  },
  {
   "cell_type": "code",
   "execution_count": 23,
   "id": "0353336e",
   "metadata": {
    "execution": {
     "iopub.execute_input": "2022-10-26T00:15:23.990044Z",
     "iopub.status.busy": "2022-10-26T00:15:23.989597Z",
     "iopub.status.idle": "2022-10-26T00:15:24.505549Z",
     "shell.execute_reply": "2022-10-26T00:15:24.504221Z"
    },
    "papermill": {
     "duration": 0.545806,
     "end_time": "2022-10-26T00:15:24.508329",
     "exception": false,
     "start_time": "2022-10-26T00:15:23.962523",
     "status": "completed"
    },
    "tags": []
   },
   "outputs": [
    {
     "data": {
      "image/png": "[encoded data removed]",
      "text/plain": [
       "<Figure size 1440x360 with 3 Axes>"
      ]
     },
     "metadata": {
      "needs_background": "light"
     },
     "output_type": "display_data"
    }
   ],
   "source": [
    "fig, axes = plt.subplots(1, 3, figsize=(20, 5))\n",
    "\n",
    "pclass_order = [\"Upper\", \"Middle\", \"Lower\"]\n",
    "\n",
    "sns.countplot(ax = axes[0], x = df_train['Pclass'], order = pclass_order).set_title('Pclass distribution')\n",
    "sns.countplot(ax = axes[1], data = df_train, x = 'Pclass', order = pclass_order, hue = 'Sex').set_title('Pclass count by Sex')\n",
    "sns.barplot(ax = axes[2], data = df_train, x = \"Pclass\", y = \"Survived\", order = pclass_order).set_title('Survival rate by Pclass');"
   ]
  },
  {
   "cell_type": "markdown",
   "id": "d14f41fe",
   "metadata": {
    "papermill": {
     "duration": 0.026096,
     "end_time": "2022-10-26T00:15:24.561234",
     "exception": false,
     "start_time": "2022-10-26T00:15:24.535138",
     "status": "completed"
    },
    "tags": []
   },
   "source": [
    "**📝 Takeaways**\n",
    "* Most travelers were in the lower class\n",
    "* There were a lot of men in the lower class\n",
    "* Chance of survival growths with class"
   ]
  },
  {
   "cell_type": "markdown",
   "id": "e0bdf1d7",
   "metadata": {
    "papermill": {
     "duration": 0.026021,
     "end_time": "2022-10-26T00:15:24.613656",
     "exception": false,
     "start_time": "2022-10-26T00:15:24.587635",
     "status": "completed"
    },
    "tags": []
   },
   "source": [
    "## Age"
   ]
  },
  {
   "cell_type": "code",
   "execution_count": 24,
   "id": "bce71c93",
   "metadata": {
    "execution": {
     "iopub.execute_input": "2022-10-26T00:15:24.669286Z",
     "iopub.status.busy": "2022-10-26T00:15:24.668371Z",
     "iopub.status.idle": "2022-10-26T00:15:25.888243Z",
     "shell.execute_reply": "2022-10-26T00:15:25.887037Z"
    },
    "papermill": {
     "duration": 1.250642,
     "end_time": "2022-10-26T00:15:25.890579",
     "exception": false,
     "start_time": "2022-10-26T00:15:24.639937",
     "status": "completed"
    },
    "tags": []
   },
   "outputs": [
    {
     "data": {
      "image/png": "[encoded data removed]",
      "text/plain": [
       "<Figure size 1440x360 with 3 Axes>"
      ]
     },
     "metadata": {
      "needs_background": "light"
     },
     "output_type": "display_data"
    }
   ],
   "source": [
    "fig, axes = plt.subplots(1, 3, figsize=(20, 5))\n",
    "\n",
    "sns.histplot(ax = axes[0], data=df_train, x=\"Age\").set_title('Age distribution')\n",
    "sns.boxplot(ax = axes[1], data=df_train, x=\"Age\", y=\"Pclass\", hue='Sex', order=[\"Upper\", \"Middle\", \"Lower\"]).set_title('Age distribution by Pclass')\n",
    "\n",
    "#Plot by age group\n",
    "\n",
    "#Define age limit for groups and their labels\n",
    "age_groups_thresholds = [0, 9, 19, 29, 39, 49, 59, 69, np.inf]\n",
    "age_groups = [\"0 - 9\", \"10 - 19\", \"20 - 29\", \"30 - 39\", \"40 - 49\", \"50 - 59\", \"60 - 69\", \"70 and older\"]\n",
    "\n",
    "#Cut Age Series by thresholds and load into new feature\n",
    "df_train[\"Age_Group\"] = pd.cut(df_train['Age'], age_groups_thresholds, labels=age_groups)\n",
    "sns.barplot(ax = axes[2], data=df_train, x=\"Age_Group\", y=\"Survived\", hue=\"Sex\").set_title('Survival rate by age group and sex')\n",
    "axes[2].set_xticklabels(axes[2].get_xticklabels(), rotation = 40, ha=\"right\");"
   ]
  },
  {
   "cell_type": "markdown",
   "id": "b5ec25ef",
   "metadata": {
    "papermill": {
     "duration": 0.028651,
     "end_time": "2022-10-26T00:15:25.946358",
     "exception": false,
     "start_time": "2022-10-26T00:15:25.917707",
     "status": "completed"
    },
    "tags": []
   },
   "source": [
    "**📝 Takeaways**\n",
    "* The Age is normal distributed with a positive skew\n",
    "* The class tells us the general age group, with Lower having the youngest and Upper the oldest\n",
    "* For males, children from 0 - 9 had the highest chance of surival, women in all age groups had high survival rate\n",
    "\n",
    "\n",
    "It is interesting to see that women of old age had a higher survival rate than girls."
   ]
  },
  {
   "cell_type": "markdown",
   "id": "d4d0daf8",
   "metadata": {
    "execution": {
     "iopub.execute_input": "2022-10-25T17:46:22.663367Z",
     "iopub.status.busy": "2022-10-25T17:46:22.662780Z",
     "iopub.status.idle": "2022-10-25T17:46:22.669567Z",
     "shell.execute_reply": "2022-10-25T17:46:22.668185Z",
     "shell.execute_reply.started": "2022-10-25T17:46:22.663296Z"
    },
    "papermill": {
     "duration": 0.026688,
     "end_time": "2022-10-26T00:15:25.999926",
     "exception": false,
     "start_time": "2022-10-26T00:15:25.973238",
     "status": "completed"
    },
    "tags": []
   },
   "source": [
    "## SibSp"
   ]
  },
  {
   "cell_type": "code",
   "execution_count": 25,
   "id": "34f5ef3d",
   "metadata": {
    "execution": {
     "iopub.execute_input": "2022-10-26T00:15:26.055592Z",
     "iopub.status.busy": "2022-10-26T00:15:26.055196Z",
     "iopub.status.idle": "2022-10-26T00:15:26.606612Z",
     "shell.execute_reply": "2022-10-26T00:15:26.605396Z"
    },
    "papermill": {
     "duration": 0.582236,
     "end_time": "2022-10-26T00:15:26.609062",
     "exception": false,
     "start_time": "2022-10-26T00:15:26.026826",
     "status": "completed"
    },
    "tags": []
   },
   "outputs": [
    {
     "data": {
      "image/png": "[encoded data removed]",
      "text/plain": [
       "<Figure size 1440x360 with 2 Axes>"
      ]
     },
     "metadata": {
      "needs_background": "light"
     },
     "output_type": "display_data"
    }
   ],
   "source": [
    "fig, axes = plt.subplots(1, 2, figsize=(20, 5))\n",
    "\n",
    "sns.countplot(ax = axes[0], x = df_train['SibSp']).set_title('SibSp count distribution')\n",
    "sns.barplot(ax = axes[1], data = df_train, x = \"SibSp\", y = \"Survived\").set_title('Survival rate by SibSp count');"
   ]
  },
  {
   "cell_type": "markdown",
   "id": "6daf30a0",
   "metadata": {
    "papermill": {
     "duration": 0.027394,
     "end_time": "2022-10-26T00:15:26.664604",
     "exception": false,
     "start_time": "2022-10-26T00:15:26.637210",
     "status": "completed"
    },
    "tags": []
   },
   "source": [
    "**📝 Takeaways**\n",
    "* The count of people gets lower with amount of siblings\n",
    "* Having 1 or 2 siblings on board was good for surivival, more made it worse"
   ]
  },
  {
   "cell_type": "markdown",
   "id": "cc20b5f7",
   "metadata": {
    "papermill": {
     "duration": 0.027363,
     "end_time": "2022-10-26T00:15:26.720292",
     "exception": false,
     "start_time": "2022-10-26T00:15:26.692929",
     "status": "completed"
    },
    "tags": []
   },
   "source": [
    "## Parch"
   ]
  },
  {
   "cell_type": "code",
   "execution_count": 26,
   "id": "ff831fcb",
   "metadata": {
    "execution": {
     "iopub.execute_input": "2022-10-26T00:15:26.777607Z",
     "iopub.status.busy": "2022-10-26T00:15:26.777185Z",
     "iopub.status.idle": "2022-10-26T00:15:27.308378Z",
     "shell.execute_reply": "2022-10-26T00:15:27.307193Z"
    },
    "papermill": {
     "duration": 0.562885,
     "end_time": "2022-10-26T00:15:27.310852",
     "exception": false,
     "start_time": "2022-10-26T00:15:26.747967",
     "status": "completed"
    },
    "tags": []
   },
   "outputs": [
    {
     "data": {
      "image/png": "[encoded data removed]",
      "text/plain": [
       "<Figure size 1440x360 with 2 Axes>"
      ]
     },
     "metadata": {
      "needs_background": "light"
     },
     "output_type": "display_data"
    }
   ],
   "source": [
    "fig, axes = plt.subplots(1, 2, figsize=(20, 5))\n",
    "\n",
    "sns.countplot(ax = axes[0], x = df_train['Parch']).set_title('Parent/Child count distribution')\n",
    "sns.barplot(ax = axes[1], data = df_train, x = \"Parch\", y = \"Survived\").set_title('Survival rate by Parch');"
   ]
  },
  {
   "cell_type": "markdown",
   "id": "d22c05dc",
   "metadata": {
    "papermill": {
     "duration": 0.027615,
     "end_time": "2022-10-26T00:15:27.366603",
     "exception": false,
     "start_time": "2022-10-26T00:15:27.338988",
     "status": "completed"
    },
    "tags": []
   },
   "source": [
    "**📝 Takeaways**\n",
    "* Most peopöe had only a few or no parents / children on board\n",
    "* There is no clear impact on surival rate"
   ]
  },
  {
   "cell_type": "markdown",
   "id": "6629e553",
   "metadata": {
    "papermill": {
     "duration": 0.02757,
     "end_time": "2022-10-26T00:15:27.422224",
     "exception": false,
     "start_time": "2022-10-26T00:15:27.394654",
     "status": "completed"
    },
    "tags": []
   },
   "source": [
    "## Fare"
   ]
  },
  {
   "cell_type": "code",
   "execution_count": 27,
   "id": "aecc4e6d",
   "metadata": {
    "execution": {
     "iopub.execute_input": "2022-10-26T00:15:27.479950Z",
     "iopub.status.busy": "2022-10-26T00:15:27.479553Z",
     "iopub.status.idle": "2022-10-26T00:15:28.296970Z",
     "shell.execute_reply": "2022-10-26T00:15:28.295539Z"
    },
    "papermill": {
     "duration": 0.849635,
     "end_time": "2022-10-26T00:15:28.299786",
     "exception": false,
     "start_time": "2022-10-26T00:15:27.450151",
     "status": "completed"
    },
    "tags": []
   },
   "outputs": [
    {
     "data": {
      "image/png": "[encoded data removed]",
      "text/plain": [
       "<Figure size 1440x360 with 2 Axes>"
      ]
     },
     "metadata": {
      "needs_background": "light"
     },
     "output_type": "display_data"
    }
   ],
   "source": [
    "fig, axes = plt.subplots(1, 2, figsize=(20, 5))\n",
    "\n",
    "sns.histplot(ax = axes[0], x = df_train[\"Fare\"]).set_title('Fare distribution')\n",
    "sns.stripplot(ax = axes[1], data = df_train, x=\"Sex\", y=\"Fare\", hue=\"Survived\", jitter=0.4).set_title('Fare by Sex and Survived');"
   ]
  },
  {
   "cell_type": "markdown",
   "id": "2f73665e",
   "metadata": {
    "papermill": {
     "duration": 0.028916,
     "end_time": "2022-10-26T00:15:28.358576",
     "exception": false,
     "start_time": "2022-10-26T00:15:28.329660",
     "status": "completed"
    },
    "tags": []
   },
   "source": [
    "**📝 Takeaways**\n",
    "* The Fare is normal  at around 10 with a few extreme outliers\n",
    "* Only the outliers seem to have an impact on the survival rate, middle range Fares also had a bad survival chance for men\n",
    "* Women with a low Fare also had a bad surival chance"
   ]
  },
  {
   "cell_type": "code",
   "execution_count": 28,
   "id": "29d29aee",
   "metadata": {
    "execution": {
     "iopub.execute_input": "2022-10-26T00:15:28.418871Z",
     "iopub.status.busy": "2022-10-26T00:15:28.418453Z",
     "iopub.status.idle": "2022-10-26T00:15:29.086786Z",
     "shell.execute_reply": "2022-10-26T00:15:29.085695Z"
    },
    "papermill": {
     "duration": 0.701661,
     "end_time": "2022-10-26T00:15:29.089696",
     "exception": false,
     "start_time": "2022-10-26T00:15:28.388035",
     "status": "completed"
    },
    "tags": []
   },
   "outputs": [
    {
     "data": {
      "image/png": "[encoded data removed]",
      "text/plain": [
       "<Figure size 1440x360 with 4 Axes>"
      ]
     },
     "metadata": {
      "needs_background": "light"
     },
     "output_type": "display_data"
    }
   ],
   "source": [
    "fig, axes = plt.subplots(1, 3, figsize=(20, 5))\n",
    "crosstable_joined_classdept = pd.crosstab(df_train['Embarked'], df_train['Pclass'])\n",
    "\n",
    "sns.countplot(ax = axes[0], x = df_train['Embarked']).set_title('Embarked count distribution')\n",
    "sns.barplot(ax = axes[1], data = df_train, x = \"Embarked\", y = \"Survived\").set_title('Survival rate by Embarked')\n",
    "sns.heatmap(ax = axes[2], data = crosstable_joined_classdept).set_title('Embarked by Pclass');"
   ]
  },
  {
   "cell_type": "markdown",
   "id": "46b0b2ce",
   "metadata": {
    "papermill": {
     "duration": 0.029807,
     "end_time": "2022-10-26T00:15:29.150404",
     "exception": false,
     "start_time": "2022-10-26T00:15:29.120597",
     "status": "completed"
    },
    "tags": []
   },
   "source": [
    "**📝 Takeaways**\n",
    "* Most people embarked in Southampton\n",
    "* The people who embarked in Cherbourg had the best chance for surival\n",
    "* There is no clear difference where people from classes embarked\n",
    "\n",
    "We know that the Titanic was built in Belfast, then went to Southhampton, Cherbourg and Queenstown in that order."
   ]
  },
  {
   "cell_type": "code",
   "execution_count": 29,
   "id": "d818d99b",
   "metadata": {
    "execution": {
     "iopub.execute_input": "2022-10-26T00:15:29.213215Z",
     "iopub.status.busy": "2022-10-26T00:15:29.212521Z",
     "iopub.status.idle": "2022-10-26T00:15:29.575847Z",
     "shell.execute_reply": "2022-10-26T00:15:29.574666Z"
    },
    "papermill": {
     "duration": 0.397904,
     "end_time": "2022-10-26T00:15:29.578611",
     "exception": false,
     "start_time": "2022-10-26T00:15:29.180707",
     "status": "completed"
    },
    "tags": []
   },
   "outputs": [
    {
     "data": {
      "image/png": "[encoded data removed]",
      "text/plain": [
       "<Figure size 792x648 with 2 Axes>"
      ]
     },
     "metadata": {
      "needs_background": "light"
     },
     "output_type": "display_data"
    }
   ],
   "source": [
    "corr = df_train.corr()\n",
    "plt.subplots(figsize=(11, 9))\n",
    "mask = np.triu(np.ones_like(corr, dtype=bool))\n",
    "cmap = sns.diverging_palette(200, 20, as_cmap=True)\n",
    "sns.heatmap(corr ,annot = True, mask=mask, cmap=cmap, vmax=.4, center=0).set_title('Correlation matrix');"
   ]
  },
  {
   "cell_type": "markdown",
   "id": "d451671e",
   "metadata": {
    "papermill": {
     "duration": 0.030103,
     "end_time": "2022-10-26T00:15:29.639666",
     "exception": false,
     "start_time": "2022-10-26T00:15:29.609563",
     "status": "completed"
    },
    "tags": []
   },
   "source": [
    "**📝 Takeaways**\n",
    "* Strongest correlation between Parch and SibSp, which comes from traveling families\n",
    "* The fare has the highest correlation to survived\n",
    "\n",
    "In the <a href=\"https://en.wikipedia.org/wiki/Women_and_children_first\">Wikipedia</a> article from earlier it says\n",
    "<figure>\n",
    "    <blockquote cite=\"http://hwj.oxfordjournals.org/content/78/1/39.full\">\n",
    "        <p>\"Notable invocations of the concept include during the 1852 evacuation of the Royal Navy troopship HMS Birkenhead and most famously during the 1912 sinking of RMS Titanic. Despite its prominence in the popular imagination, the doctrine was unevenly applied.\"</p>\n",
    "    </blockquote>\n",
    "    <figcaption>— Wikipedia, <cite>Women and children first (10.2022)</cite></figcaption>\n",
    "</figure>\n",
    "After looking at the Pclass and Fare features, we could definitely see a trend. The correlation between Fare and Survival confirms it. Money first would have been a more accurate code of conduct. However, we did see that children had the highest survival rate of all ages."
   ]
  },
  {
   "cell_type": "markdown",
   "id": "d91e1f7c",
   "metadata": {
    "papermill": {
     "duration": 0.031176,
     "end_time": "2022-10-26T00:15:29.703478",
     "exception": false,
     "start_time": "2022-10-26T00:15:29.672302",
     "status": "completed"
    },
    "tags": []
   },
   "source": [
    "# ⚙️ Pre Processing"
   ]
  },
  {
   "cell_type": "markdown",
   "id": "06be2564",
   "metadata": {
    "papermill": {
     "duration": 0.030094,
     "end_time": "2022-10-26T00:15:29.764567",
     "exception": false,
     "start_time": "2022-10-26T00:15:29.734473",
     "status": "completed"
    },
    "tags": []
   },
   "source": [
    "In this step we implement all the findings we evaluated in the last steps."
   ]
  },
  {
   "cell_type": "code",
   "execution_count": 30,
   "id": "258c4eb5",
   "metadata": {
    "execution": {
     "iopub.execute_input": "2022-10-26T00:15:29.827876Z",
     "iopub.status.busy": "2022-10-26T00:15:29.827437Z",
     "iopub.status.idle": "2022-10-26T00:15:29.838573Z",
     "shell.execute_reply": "2022-10-26T00:15:29.837203Z"
    },
    "papermill": {
     "duration": 0.046259,
     "end_time": "2022-10-26T00:15:29.841365",
     "exception": false,
     "start_time": "2022-10-26T00:15:29.795106",
     "status": "completed"
    },
    "tags": []
   },
   "outputs": [],
   "source": [
    "#Train\n",
    "age_mean = df_train['Age'].mean()\n",
    "df_train['Age'].fillna(round(age_mean),inplace=True)\n",
    "df_train['Embarked'].fillna(method = 'bfill', inplace = True)"
   ]
  },
  {
   "cell_type": "code",
   "execution_count": 31,
   "id": "c832b179",
   "metadata": {
    "execution": {
     "iopub.execute_input": "2022-10-26T00:15:29.915988Z",
     "iopub.status.busy": "2022-10-26T00:15:29.915422Z",
     "iopub.status.idle": "2022-10-26T00:15:29.924117Z",
     "shell.execute_reply": "2022-10-26T00:15:29.922802Z"
    },
    "papermill": {
     "duration": 0.050049,
     "end_time": "2022-10-26T00:15:29.926935",
     "exception": false,
     "start_time": "2022-10-26T00:15:29.876886",
     "status": "completed"
    },
    "tags": []
   },
   "outputs": [],
   "source": [
    "#Test\n",
    "age_mean_test = df_test['Age'].mean()\n",
    "df_test['Age'].fillna(round(age_mean_test),inplace=True)\n",
    "df_test['Embarked'].fillna(method = 'bfill', inplace = True)"
   ]
  },
  {
   "cell_type": "markdown",
   "id": "fa210a8b",
   "metadata": {
    "papermill": {
     "duration": 0.030699,
     "end_time": "2022-10-26T00:15:29.992846",
     "exception": false,
     "start_time": "2022-10-26T00:15:29.962147",
     "status": "completed"
    },
    "tags": []
   },
   "source": [
    "**📝 Takeaways**\n",
    "* We fill up the missing Age values with the mean of all ages\n",
    "* We fill up the missing Embarked values with backward fill, which will get the last avaiable value"
   ]
  },
  {
   "cell_type": "markdown",
   "id": "a5aad484",
   "metadata": {
    "papermill": {
     "duration": 0.030322,
     "end_time": "2022-10-26T00:15:30.053940",
     "exception": false,
     "start_time": "2022-10-26T00:15:30.023618",
     "status": "completed"
    },
    "tags": []
   },
   "source": [
    "In the next step, we will normalize the data to make it easier to work with. This will be important for the model predictions. <br><br>\n",
    "For **numeric data**, we standardize it by normalizing the min max to be inbetween 0 and 1. This makes the weight of all numeric features equal. More about that later. <br><br>\n",
    "For **categorical data**, we use <a href='https://en.wikipedia.org/wiki/One-hot'>one hot encoding</a>. Let's look at Pclass for an example: <br><br>\n",
    "Pclass can hold 3 values (0: Upper, 1: Middle, 2: Lower). To work with the data, we need numbers. We could represent the data by its index. However, this does not make sense, since it does not represent the relationship between the categories well. This is why we want to represent categorical data as a vector. The vector is a list of zeros with the exact length of possible values of the categorical variable. On the index of the given categorical value, a 1 will be set. <br><br>\n",
    "\n",
    "Example: <br>"
   ]
  },
  {
   "cell_type": "markdown",
   "id": "8a2b96b7",
   "metadata": {
    "execution": {
     "iopub.execute_input": "2022-10-25T18:13:07.570105Z",
     "iopub.status.busy": "2022-10-25T18:13:07.569662Z",
     "iopub.status.idle": "2022-10-25T18:13:07.577460Z",
     "shell.execute_reply": "2022-10-25T18:13:07.575948Z",
     "shell.execute_reply.started": "2022-10-25T18:13:07.570075Z"
    },
    "papermill": {
     "duration": 0.030543,
     "end_time": "2022-10-26T00:15:30.115120",
     "exception": false,
     "start_time": "2022-10-26T00:15:30.084577",
     "status": "completed"
    },
    "tags": []
   },
   "source": [
    "<img src='https://miro.medium.com/max/1400/1*ggtP4a5YaRx6l09KQaYOnw.png'> <br><br>\n",
    "\n",
    "Image Source: <a href='https://towardsdatascience.com/building-a-one-hot-encoding-layer-with-tensorflow-f907d686bf39'>towardsdatascience.com</a>"
   ]
  },
  {
   "cell_type": "code",
   "execution_count": 32,
   "id": "31052132",
   "metadata": {
    "execution": {
     "iopub.execute_input": "2022-10-26T00:15:30.178739Z",
     "iopub.status.busy": "2022-10-26T00:15:30.177979Z",
     "iopub.status.idle": "2022-10-26T00:15:30.185822Z",
     "shell.execute_reply": "2022-10-26T00:15:30.184551Z"
    },
    "papermill": {
     "duration": 0.042522,
     "end_time": "2022-10-26T00:15:30.188490",
     "exception": false,
     "start_time": "2022-10-26T00:15:30.145968",
     "status": "completed"
    },
    "tags": []
   },
   "outputs": [],
   "source": [
    "#Scale all numeric features to 0 - 1\n",
    "def scale(num_features):\n",
    "    min_max_scaler = MinMaxScaler()\n",
    "    num_features = min_max_scaler.fit_transform(num_features)\n",
    "    return pd.DataFrame(num_features)\n",
    "\n",
    "#One hot encode categorical features\n",
    "def one_hot_encode(cat_features):\n",
    "    one_hot_enc = OneHotEncoder(handle_unknown = 'ignore', sparse = False)\n",
    "    cat_features_one_hot = pd.DataFrame(one_hot_enc.fit_transform(cat_features))\n",
    "    return pd.DataFrame(cat_features_one_hot)\n",
    "\n",
    "#Normalize data according to data type\n",
    "def normalize_data(df):\n",
    "    cat_features = df.select_dtypes(include = 'object')\n",
    "    num_features = df.select_dtypes(exclude = 'object')\n",
    "    \n",
    "    cat_features = one_hot_encode(cat_features)\n",
    "    num_features = scale(num_features)\n",
    "\n",
    "    df = pd.concat([num_features, cat_features], axis = 1)\n",
    "    return df.to_numpy()"
   ]
  },
  {
   "cell_type": "code",
   "execution_count": 33,
   "id": "17a90fb2",
   "metadata": {
    "execution": {
     "iopub.execute_input": "2022-10-26T00:15:30.252002Z",
     "iopub.status.busy": "2022-10-26T00:15:30.250942Z",
     "iopub.status.idle": "2022-10-26T00:15:30.269595Z",
     "shell.execute_reply": "2022-10-26T00:15:30.268323Z"
    },
    "papermill": {
     "duration": 0.053069,
     "end_time": "2022-10-26T00:15:30.272179",
     "exception": false,
     "start_time": "2022-10-26T00:15:30.219110",
     "status": "completed"
    },
    "tags": []
   },
   "outputs": [],
   "source": [
    "#Train\n",
    "X = df_train[['Age', 'Fare', 'SibSp', 'Parch', 'Sex', 'Pclass', 'Embarked']]\n",
    "X = normalize_data(X)\n",
    "\n",
    "y = df_train['Survived'].to_numpy()\n",
    "\n",
    "X_train, X_dev, y_train, y_dev = train_test_split(X, y, train_size = 0.8, test_size = 0.2, random_state = 0)"
   ]
  },
  {
   "cell_type": "code",
   "execution_count": 34,
   "id": "0b575b41",
   "metadata": {
    "execution": {
     "iopub.execute_input": "2022-10-26T00:15:30.335808Z",
     "iopub.status.busy": "2022-10-26T00:15:30.335383Z",
     "iopub.status.idle": "2022-10-26T00:15:30.353146Z",
     "shell.execute_reply": "2022-10-26T00:15:30.351923Z"
    },
    "papermill": {
     "duration": 0.052585,
     "end_time": "2022-10-26T00:15:30.355962",
     "exception": false,
     "start_time": "2022-10-26T00:15:30.303377",
     "status": "completed"
    },
    "tags": []
   },
   "outputs": [],
   "source": [
    "#Test\n",
    "X_test = df_test[['Age', 'Fare', 'SibSp', 'Parch', 'Sex', 'Pclass', 'Embarked']]\n",
    "X_test = normalize_data(X_test)"
   ]
  },
  {
   "cell_type": "markdown",
   "id": "9c2c5ee5",
   "metadata": {
    "papermill": {
     "duration": 0.03062,
     "end_time": "2022-10-26T00:15:30.417284",
     "exception": false,
     "start_time": "2022-10-26T00:15:30.386664",
     "status": "completed"
    },
    "tags": []
   },
   "source": [
    "**📝 Takeaways**\n",
    "* We choose the train features X which we discussed in the Data Exploration\n",
    "* We take Survived for the goal variable y\n",
    "* We split the data in train and dev for cross validation\n",
    "\n",
    "We do not want to use the test set for validation while training models. The test data should remain unknown until a model has been selected, as it should simulate future predictions. So we have to split the train data into train and dev. <br>"
   ]
  },
  {
   "cell_type": "markdown",
   "id": "15999d92",
   "metadata": {
    "execution": {
     "iopub.execute_input": "2022-10-25T17:28:34.837373Z",
     "iopub.status.busy": "2022-10-25T17:28:34.836878Z",
     "iopub.status.idle": "2022-10-25T17:28:34.843485Z",
     "shell.execute_reply": "2022-10-25T17:28:34.842271Z",
     "shell.execute_reply.started": "2022-10-25T17:28:34.837303Z"
    },
    "papermill": {
     "duration": 0.030368,
     "end_time": "2022-10-26T00:15:30.478374",
     "exception": false,
     "start_time": "2022-10-26T00:15:30.448006",
     "status": "completed"
    },
    "tags": []
   },
   "source": [
    "# 🧰 Model"
   ]
  },
  {
   "cell_type": "markdown",
   "id": "85afd2ef",
   "metadata": {
    "papermill": {
     "duration": 0.031265,
     "end_time": "2022-10-26T00:15:30.540440",
     "exception": false,
     "start_time": "2022-10-26T00:15:30.509175",
     "status": "completed"
    },
    "tags": []
   },
   "source": [
    "[$k$-Nearest-Neighbours](https://en.wikipedia.org/wiki/K-nearest_neighbors_algorithm) (kNN) uses the spacial distance between points in the data set. For every entry in x_test, we check its nearest $k$ neighbours in the x_train. We then take the average of the corresponding real  y value of the neighbours and check if it is greater than 0.5, to get a binary prediction.\n",
    "\n",
    "\\begin{equation}\n",
    "\\frac{1}{k}\n",
    "\\sum_{i=1}^{m}\n",
    "y^{(i)}\n",
    "> 0.5\n",
    "\\end{equation}"
   ]
  },
  {
   "cell_type": "markdown",
   "id": "da87b1d5",
   "metadata": {
    "papermill": {
     "duration": 0.030216,
     "end_time": "2022-10-26T00:15:30.601734",
     "exception": false,
     "start_time": "2022-10-26T00:15:30.571518",
     "status": "completed"
    },
    "tags": []
   },
   "source": [
    "Or in simpler terms, if we imagine every feature in our data as a dimension, we can find the distance to each other. This is easiest to think about with 2 features, which will create a 2D plane (see below). When we fit a new data point from x_test, we check the distance from that point to all data points in x_train. Then, we take the $k$ nearest neighbours, meaning the points from x_train with the lowest distance. Now we can calcualte the average of all corresponding y_train data points and check if it is greater than 0.5. <br><br>\n",
    "\n",
    "For example, if the nearest k=5 neighbours y values are [1, 1, 0, 1, 0], we get an average of 3 / 5 = 0.6. Since 0.6 is greater than 0.5, we will predict it as survived.<br><br>"
   ]
  },
  {
   "cell_type": "markdown",
   "id": "e4ced617",
   "metadata": {
    "execution": {
     "iopub.execute_input": "2022-10-25T18:23:10.336063Z",
     "iopub.status.busy": "2022-10-25T18:23:10.335605Z",
     "iopub.status.idle": "2022-10-25T18:23:10.342528Z",
     "shell.execute_reply": "2022-10-25T18:23:10.341370Z",
     "shell.execute_reply.started": "2022-10-25T18:23:10.336031Z"
    },
    "papermill": {
     "duration": 0.030351,
     "end_time": "2022-10-26T00:15:30.663843",
     "exception": false,
     "start_time": "2022-10-26T00:15:30.633492",
     "status": "completed"
    },
    "tags": []
   },
   "source": [
    "<center><img src='http://res.cloudinary.com/dyd911kmh/image/upload/f_auto,q_auto:best/v1531424125/KNN_final_a1mrv9.png'></center><br><br>\n",
    "Image Source: <a href='https://towardsdatascience.com/knn-k-nearest-neighbors-1-a4707b24bd1d'>towardsdatascience.com</a>"
   ]
  },
  {
   "cell_type": "markdown",
   "id": "f0cd4ec3",
   "metadata": {
    "papermill": {
     "duration": 0.030234,
     "end_time": "2022-10-26T00:15:30.725270",
     "exception": false,
     "start_time": "2022-10-26T00:15:30.695036",
     "status": "completed"
    },
    "tags": []
   },
   "source": [
    "The euclideanb distance between two points is calculated by\n",
    "\\begin{equation}\n",
    "d\\left( a,b\\right) = \\sqrt {\\sum _{i=1}^{n}  \\left( a_{i}-b_{i}\\right)^2 } \n",
    "\\end{equation}"
   ]
  },
  {
   "cell_type": "markdown",
   "id": "4ef41c3f",
   "metadata": {
    "execution": {
     "iopub.execute_input": "2022-10-25T19:08:26.160026Z",
     "iopub.status.busy": "2022-10-25T19:08:26.159258Z",
     "iopub.status.idle": "2022-10-25T19:08:26.166777Z",
     "shell.execute_reply": "2022-10-25T19:08:26.165244Z",
     "shell.execute_reply.started": "2022-10-25T19:08:26.159988Z"
    },
    "papermill": {
     "duration": 0.030238,
     "end_time": "2022-10-26T00:15:30.786094",
     "exception": false,
     "start_time": "2022-10-26T00:15:30.755856",
     "status": "completed"
    },
    "tags": []
   },
   "source": [
    "<div class=\"alert alert-block alert-info\">\n",
    "<b>ℹ️ Note:</b> We are subtracting the features from each other. This is why we needed to scale the numeric features. If one feature has much higher values than others, it will lead to larger numbers. This will make the distance higher and give the feature more weight during prediction.\n",
    "</div>"
   ]
  },
  {
   "cell_type": "code",
   "execution_count": 35,
   "id": "661d0cbb",
   "metadata": {
    "execution": {
     "iopub.execute_input": "2022-10-26T00:15:30.850448Z",
     "iopub.status.busy": "2022-10-26T00:15:30.849637Z",
     "iopub.status.idle": "2022-10-26T00:15:30.862126Z",
     "shell.execute_reply": "2022-10-26T00:15:30.861036Z"
    },
    "papermill": {
     "duration": 0.047951,
     "end_time": "2022-10-26T00:15:30.864765",
     "exception": false,
     "start_time": "2022-10-26T00:15:30.816814",
     "status": "completed"
    },
    "tags": []
   },
   "outputs": [],
   "source": [
    "class KNearestNeighbourEstimator():\n",
    "    def __init__(self, k_):\n",
    "        self.k_ = k_\n",
    "        \n",
    "    def fit(self, X, y):\n",
    "        self.X_train_ = X\n",
    "        self.y_train_ = y\n",
    "    \n",
    "    def predict(self, X_test):\n",
    "        predictions = []\n",
    "        \n",
    "        #Go through each line in X_test and get prediction (0 or 1)\n",
    "        for X_test_row in X_test:\n",
    "            output = self.__row_prediction(X_test_row)\n",
    "            predictions.append(output)\n",
    "            \n",
    "        return(predictions)\n",
    "    \n",
    "    # Make a prediction of a single row in X_test\n",
    "    def __row_prediction(self, X_test_row):\n",
    "        #Get indices of k nearest neighbours and collect y values\n",
    "        k_neighbours_indices = self.__get_k_nearest_neighbours_indices(X_test_row)\n",
    "        k_neighbours_y_values = self.y_train_[k_neighbours_indices]\n",
    "        \n",
    "        #Get average of y values\n",
    "        average = 0\n",
    "        for y_value in k_neighbours_y_values:\n",
    "            average += y_value\n",
    "        average = average / len(k_neighbours_y_values)\n",
    "        \n",
    "        #Check if neighbours are more likely to show survival\n",
    "        prediction = average > 0.5\n",
    "\n",
    "        return int(prediction)\n",
    "    \n",
    "    #Get list of k neighbours indices for X_test_row\n",
    "    def __get_k_nearest_neighbours_indices(self, X_test_row):\n",
    "        distances = []\n",
    "        \n",
    "        #Get index and distance to each row in X_train for X_test row\n",
    "        for i, X_train_row in enumerate(self.X_train_):\n",
    "            distance = self.__euclidean_distance(X_test_row, X_train_row)\n",
    "            distances.append((i, distance))\n",
    "        \n",
    "        #Sort by distance value\n",
    "        distances.sort(key=lambda tup: tup[1])\n",
    "        \n",
    "        #Get the indices of the top k neighbours\n",
    "        k_neighbours = []\n",
    "        for i in range(self.k_):\n",
    "            k_neighbours.append(distances[i][0])\n",
    "        return k_neighbours\n",
    "    \n",
    "    #Calculate euclidean distance according to equation\n",
    "    def __euclidean_distance(self, a, b):\n",
    "        distance = 0\n",
    "        for i in range(len(a) - 1):\n",
    "            distance += (a[i] - b[i])**2\n",
    "        return sqrt(distance)"
   ]
  },
  {
   "cell_type": "code",
   "execution_count": 36,
   "id": "05ee1005",
   "metadata": {
    "execution": {
     "iopub.execute_input": "2022-10-26T00:15:30.929239Z",
     "iopub.status.busy": "2022-10-26T00:15:30.928767Z",
     "iopub.status.idle": "2022-10-26T00:15:31.895175Z",
     "shell.execute_reply": "2022-10-26T00:15:31.893923Z"
    },
    "papermill": {
     "duration": 1.001527,
     "end_time": "2022-10-26T00:15:31.897433",
     "exception": false,
     "start_time": "2022-10-26T00:15:30.895906",
     "status": "completed"
    },
    "tags": []
   },
   "outputs": [
    {
     "name": "stdout",
     "output_type": "stream",
     "text": [
      "Accuracy with k = 5: 0.81\n"
     ]
    }
   ],
   "source": [
    "knn_estimator = KNearestNeighbourEstimator(k_ = 5)\n",
    "knn_estimator.fit(X_train, y_train)\n",
    "y_pred = knn_estimator.predict(X_dev)\n",
    "accuracy = accuracy_score(y_dev, y_pred)\n",
    "\n",
    "print(f'Accuracy with k = 5: {round(accuracy, 2)}')"
   ]
  },
  {
   "cell_type": "markdown",
   "id": "3fdb54b7",
   "metadata": {
    "papermill": {
     "duration": 0.030865,
     "end_time": "2022-10-26T00:15:31.959154",
     "exception": false,
     "start_time": "2022-10-26T00:15:31.928289",
     "status": "completed"
    },
    "tags": []
   },
   "source": [
    "<div class=\"alert alert-block alert-danger\">  \n",
    "<b>⚠️ Too many For-loops:</b> Looks good, right? Judging by the score the implementation seems to work. However, this implementation is flawed. It does not use the full power of Python and numpy. Python For-loops are known to be slow.\n",
    "</div>"
   ]
  },
  {
   "cell_type": "markdown",
   "id": "90b78764",
   "metadata": {
    "execution": {
     "iopub.execute_input": "2022-10-25T19:47:18.749217Z",
     "iopub.status.busy": "2022-10-25T19:47:18.748560Z",
     "iopub.status.idle": "2022-10-25T19:47:18.756018Z",
     "shell.execute_reply": "2022-10-25T19:47:18.754873Z",
     "shell.execute_reply.started": "2022-10-25T19:47:18.749185Z"
    },
    "papermill": {
     "duration": 0.030634,
     "end_time": "2022-10-26T00:15:32.020729",
     "exception": false,
     "start_time": "2022-10-26T00:15:31.990095",
     "status": "completed"
    },
    "tags": []
   },
   "source": [
    "To get rid of the For-loops, we will use [vectorization](https://en.wikipedia.org/wiki/Array_programming). This will use numpy to do matrix multiplications instead of For-loops. In numpy, these are implemented in C below Python, which makes them faster. If you want to learn more about matrix multiplications, I suggest the [3Blue1Brown video](https://www.youtube.com/watch?v=XkY2DOUCWMU) on the topic."
   ]
  },
  {
   "cell_type": "code",
   "execution_count": 37,
   "id": "9fefd5b2",
   "metadata": {
    "execution": {
     "iopub.execute_input": "2022-10-26T00:15:32.086306Z",
     "iopub.status.busy": "2022-10-26T00:15:32.085079Z",
     "iopub.status.idle": "2022-10-26T00:15:32.092645Z",
     "shell.execute_reply": "2022-10-26T00:15:32.091635Z"
    },
    "papermill": {
     "duration": 0.042765,
     "end_time": "2022-10-26T00:15:32.095332",
     "exception": false,
     "start_time": "2022-10-26T00:15:32.052567",
     "status": "completed"
    },
    "tags": []
   },
   "outputs": [],
   "source": [
    "class KNearestNeighbourEstimatorVect():\n",
    "    def __init__(self, k_):\n",
    "        self.k_ = k_\n",
    "    \n",
    "    def fit(self, X, y):\n",
    "        self.X_ = X\n",
    "        self.y_ = y\n",
    "\n",
    "    def predict(self, X):\n",
    "        distances = distance.cdist(X, self.X_, 'euclidean')\n",
    "        i_k_smallest = np.argpartition(distances, self.k_)[:,:self.k_]\n",
    "        values = self.y_[i_k_smallest]\n",
    "        predictions = np.average(values, axis=1) > 0.5\n",
    "        return 1*predictions"
   ]
  },
  {
   "cell_type": "markdown",
   "id": "cc9aad63",
   "metadata": {
    "execution": {
     "iopub.execute_input": "2022-10-25T19:50:44.736131Z",
     "iopub.status.busy": "2022-10-25T19:50:44.735793Z",
     "iopub.status.idle": "2022-10-25T19:50:44.745695Z",
     "shell.execute_reply": "2022-10-25T19:50:44.744385Z",
     "shell.execute_reply.started": "2022-10-25T19:50:44.736103Z"
    },
    "papermill": {
     "duration": 0.030934,
     "end_time": "2022-10-26T00:15:32.157199",
     "exception": false,
     "start_time": "2022-10-26T00:15:32.126265",
     "status": "completed"
    },
    "tags": []
   },
   "source": [
    "The implementation is also much shorter than the unvectorized implementation. Let's go through each line of the prediction:<br><br>\n",
    "1. `distances = distance.cdist(X, self.X_, 'euclidean')`<br>\n",
    "The method cdist takes over the row by row calcuation of the euclidean distance. It returns a matrix that has the number of rows like X_train, but each row contains the distance to each point in X_test. So the column number will be equal to the number of rows in X_test.\n",
    "<br><br>\n",
    "\n",
    "1. `i_k_smallest = np.argpartition(distances, self.k_)[:,:self.k_]`<br>\n",
    "With argpartition, we get the indices of each distance. The first k rows will be the indices with the lowest distance. [:,:self.k_] slices these rows off, so we only get the relevant k neighbour indices.\n",
    "<br><br>\n",
    "\n",
    "1. `values = self.y_[i_k_smallest]`<br>\n",
    "Get the values of y_train by the indices.\n",
    "<br><br>\n",
    "\n",
    "1. `predictions = np.average(values, axis=1) > 0.5`<br>\n",
    "Get the average of each row in the matrix, which will result in a matrix that has only one column, which contains each average as number. Then we check for each row, if the value is grater than 0.5. Since a boolean can be mapped to 0 or 1, this will result in our predictions.\n",
    "<br><br>\n",
    "\n",
    "Now, let's compare the running time."
   ]
  },
  {
   "cell_type": "code",
   "execution_count": 38,
   "id": "2b3d4b4c",
   "metadata": {
    "execution": {
     "iopub.execute_input": "2022-10-26T00:15:32.222295Z",
     "iopub.status.busy": "2022-10-26T00:15:32.221129Z",
     "iopub.status.idle": "2022-10-26T00:15:42.125922Z",
     "shell.execute_reply": "2022-10-26T00:15:42.124418Z"
    },
    "papermill": {
     "duration": 9.940571,
     "end_time": "2022-10-26T00:15:42.129120",
     "exception": false,
     "start_time": "2022-10-26T00:15:32.188549",
     "status": "completed"
    },
    "tags": []
   },
   "outputs": [
    {
     "name": "stdout",
     "output_type": "stream",
     "text": [
      "CPU times: user 9.89 s, sys: 0 ns, total: 9.89 s\n",
      "Wall time: 9.9 s\n"
     ]
    }
   ],
   "source": [
    "%%time\n",
    "itterations = 10\n",
    "\n",
    "for i in range(itterations):\n",
    "    knn_estimator = KNearestNeighbourEstimator(k_ = 711)\n",
    "    knn_estimator.fit(X_train, y_train)\n",
    "    y_pred = knn_estimator.predict(X_dev)"
   ]
  },
  {
   "cell_type": "code",
   "execution_count": 39,
   "id": "4745fceb",
   "metadata": {
    "execution": {
     "iopub.execute_input": "2022-10-26T00:15:42.194671Z",
     "iopub.status.busy": "2022-10-26T00:15:42.193566Z",
     "iopub.status.idle": "2022-10-26T00:15:42.225302Z",
     "shell.execute_reply": "2022-10-26T00:15:42.223829Z"
    },
    "papermill": {
     "duration": 0.066683,
     "end_time": "2022-10-26T00:15:42.227640",
     "exception": false,
     "start_time": "2022-10-26T00:15:42.160957",
     "status": "completed"
    },
    "tags": []
   },
   "outputs": [
    {
     "name": "stdout",
     "output_type": "stream",
     "text": [
      "CPU times: user 24.6 ms, sys: 0 ns, total: 24.6 ms\n",
      "Wall time: 24.1 ms\n"
     ]
    }
   ],
   "source": [
    "%%time\n",
    "itterations = 10\n",
    "\n",
    "for i in range(itterations):\n",
    "    knn_estimator = KNearestNeighbourEstimatorVect(k_ = 711)\n",
    "    knn_estimator.fit(X_train, y_train)\n",
    "    y_pred = knn_estimator.predict(X_dev)"
   ]
  },
  {
   "cell_type": "markdown",
   "id": "afe9450f",
   "metadata": {
    "execution": {
     "iopub.execute_input": "2022-10-25T20:15:53.481231Z",
     "iopub.status.busy": "2022-10-25T20:15:53.480860Z",
     "iopub.status.idle": "2022-10-25T20:15:53.487653Z",
     "shell.execute_reply": "2022-10-25T20:15:53.486349Z",
     "shell.execute_reply.started": "2022-10-25T20:15:53.481201Z"
    },
    "papermill": {
     "duration": 0.03084,
     "end_time": "2022-10-26T00:15:42.290172",
     "exception": false,
     "start_time": "2022-10-26T00:15:42.259332",
     "status": "completed"
    },
    "tags": []
   },
   "source": [
    "Thats a speed up of over **300x**, with only 20 iterations 💨 <br><br>\n",
    "\n",
    "Now that we are confident of our models speed, we can brute force the best k for this data set."
   ]
  },
  {
   "cell_type": "code",
   "execution_count": 40,
   "id": "c46b9b15",
   "metadata": {
    "execution": {
     "iopub.execute_input": "2022-10-26T00:15:42.355351Z",
     "iopub.status.busy": "2022-10-26T00:15:42.354664Z",
     "iopub.status.idle": "2022-10-26T00:15:45.308137Z",
     "shell.execute_reply": "2022-10-26T00:15:45.306972Z"
    },
    "papermill": {
     "duration": 2.989351,
     "end_time": "2022-10-26T00:15:45.310609",
     "exception": false,
     "start_time": "2022-10-26T00:15:42.321258",
     "status": "completed"
    },
    "tags": []
   },
   "outputs": [
    {
     "name": "stdout",
     "output_type": "stream",
     "text": [
      "Best k: 76\n",
      "Score:  0.83\n"
     ]
    }
   ],
   "source": [
    "m = len(y_train)\n",
    "\n",
    "best_accuracy =  float('-inf')\n",
    "best_k = -1\n",
    "for k in range(1, m):\n",
    "    knn_estimator = KNearestNeighbourEstimatorVect(k_ = k)\n",
    "    knn_estimator.fit(X_train, y_train)\n",
    "    y_pred = knn_estimator.predict(X_dev)\n",
    "    accuracy = accuracy_score(y_dev, y_pred)\n",
    "    \n",
    "    if accuracy > best_accuracy:\n",
    "        best_accuracy = accuracy\n",
    "        best_k = k\n",
    "        best_y_pred = y_pred\n",
    "        \n",
    "print(f'Best k: {best_k}')\n",
    "print(f'Score:  {round(best_accuracy, 2)}')"
   ]
  },
  {
   "cell_type": "code",
   "execution_count": 41,
   "id": "61a7269f",
   "metadata": {
    "execution": {
     "iopub.execute_input": "2022-10-26T00:15:45.375174Z",
     "iopub.status.busy": "2022-10-26T00:15:45.374561Z",
     "iopub.status.idle": "2022-10-26T00:15:45.617394Z",
     "shell.execute_reply": "2022-10-26T00:15:45.616100Z"
    },
    "papermill": {
     "duration": 0.278842,
     "end_time": "2022-10-26T00:15:45.620804",
     "exception": false,
     "start_time": "2022-10-26T00:15:45.341962",
     "status": "completed"
    },
    "tags": []
   },
   "outputs": [
    {
     "data": {
      "image/png": "[encoded data removed]",
      "text/plain": [
       "<Figure size 432x288 with 2 Axes>"
      ]
     },
     "metadata": {
      "needs_background": "light"
     },
     "output_type": "display_data"
    }
   ],
   "source": [
    "confusion_m = confusion_matrix(y_dev, best_y_pred)\n",
    "\n",
    "labels = ['True Neg','False Pos','False Neg','True Pos']\n",
    "labels = np.asarray(labels).reshape(2,2)\n",
    "sns.heatmap(confusion_m, annot = labels, fmt = '', cmap = 'Blues');"
   ]
  },
  {
   "cell_type": "markdown",
   "id": "3cb9a23b",
   "metadata": {
    "papermill": {
     "duration": 0.033468,
     "end_time": "2022-10-26T00:15:45.695055",
     "exception": false,
     "start_time": "2022-10-26T00:15:45.661587",
     "status": "completed"
    },
    "tags": []
   },
   "source": [
    "We get a score of 0.83! <br>\n",
    "In the confusion matrix, we see that most errors stem from False Negatives. As we saw in the visualization, the Survived values are not equally distributed. This explains the unqual error rate."
   ]
  },
  {
   "cell_type": "markdown",
   "id": "1aa9fbc4",
   "metadata": {
    "papermill": {
     "duration": 0.032178,
     "end_time": "2022-10-26T00:15:45.760414",
     "exception": false,
     "start_time": "2022-10-26T00:15:45.728236",
     "status": "completed"
    },
    "tags": []
   },
   "source": [
    "# 📨 Submission"
   ]
  },
  {
   "cell_type": "code",
   "execution_count": 42,
   "id": "7d6351e1",
   "metadata": {
    "execution": {
     "iopub.execute_input": "2022-10-26T00:15:45.831673Z",
     "iopub.status.busy": "2022-10-26T00:15:45.831252Z",
     "iopub.status.idle": "2022-10-26T00:15:45.847183Z",
     "shell.execute_reply": "2022-10-26T00:15:45.846175Z"
    },
    "papermill": {
     "duration": 0.054991,
     "end_time": "2022-10-26T00:15:45.850061",
     "exception": false,
     "start_time": "2022-10-26T00:15:45.795070",
     "status": "completed"
    },
    "tags": []
   },
   "outputs": [],
   "source": [
    "knn_estimator = KNearestNeighbourEstimatorVect(k_ = best_k)\n",
    "knn_estimator.fit(X_train, y_train)\n",
    "y_pred = knn_estimator.predict(X_test)"
   ]
  },
  {
   "cell_type": "code",
   "execution_count": 43,
   "id": "a0818e05",
   "metadata": {
    "execution": {
     "iopub.execute_input": "2022-10-26T00:15:45.917051Z",
     "iopub.status.busy": "2022-10-26T00:15:45.915731Z",
     "iopub.status.idle": "2022-10-26T00:15:45.926785Z",
     "shell.execute_reply": "2022-10-26T00:15:45.925651Z"
    },
    "papermill": {
     "duration": 0.046554,
     "end_time": "2022-10-26T00:15:45.929521",
     "exception": false,
     "start_time": "2022-10-26T00:15:45.882967",
     "status": "completed"
    },
    "tags": []
   },
   "outputs": [],
   "source": [
    "#Create output file\n",
    "output = pd.DataFrame({'PassengerId': df_test['PassengerId'], 'Survived': y_pred})\n",
    "output.to_csv('submission.csv', index = False)"
   ]
  },
  {
   "cell_type": "code",
   "execution_count": 44,
   "id": "47957d0d",
   "metadata": {
    "execution": {
     "iopub.execute_input": "2022-10-26T00:15:45.996451Z",
     "iopub.status.busy": "2022-10-26T00:15:45.995250Z",
     "iopub.status.idle": "2022-10-26T00:15:46.009396Z",
     "shell.execute_reply": "2022-10-26T00:15:46.008313Z"
    },
    "papermill": {
     "duration": 0.049472,
     "end_time": "2022-10-26T00:15:46.011736",
     "exception": false,
     "start_time": "2022-10-26T00:15:45.962264",
     "status": "completed"
    },
    "tags": []
   },
   "outputs": [
    {
     "data": {
      "text/html": [
       "<div>\n",
       "<style scoped>\n",
       "    .dataframe tbody tr th:only-of-type {\n",
       "        vertical-align: middle;\n",
       "    }\n",
       "\n",
       "    .dataframe tbody tr th {\n",
       "        vertical-align: top;\n",
       "    }\n",
       "\n",
       "    .dataframe thead th {\n",
       "        text-align: right;\n",
       "    }\n",
       "</style>\n",
       "<table border=\"1\" class=\"dataframe\">\n",
       "  <thead>\n",
       "    <tr style=\"text-align: right;\">\n",
       "      <th></th>\n",
       "      <th>PassengerId</th>\n",
       "      <th>Survived</th>\n",
       "    </tr>\n",
       "  </thead>\n",
       "  <tbody>\n",
       "    <tr>\n",
       "      <th>0</th>\n",
       "      <td>892</td>\n",
       "      <td>0</td>\n",
       "    </tr>\n",
       "    <tr>\n",
       "      <th>1</th>\n",
       "      <td>893</td>\n",
       "      <td>0</td>\n",
       "    </tr>\n",
       "    <tr>\n",
       "      <th>2</th>\n",
       "      <td>894</td>\n",
       "      <td>0</td>\n",
       "    </tr>\n",
       "    <tr>\n",
       "      <th>3</th>\n",
       "      <td>895</td>\n",
       "      <td>0</td>\n",
       "    </tr>\n",
       "    <tr>\n",
       "      <th>4</th>\n",
       "      <td>896</td>\n",
       "      <td>0</td>\n",
       "    </tr>\n",
       "    <tr>\n",
       "      <th>...</th>\n",
       "      <td>...</td>\n",
       "      <td>...</td>\n",
       "    </tr>\n",
       "    <tr>\n",
       "      <th>413</th>\n",
       "      <td>1305</td>\n",
       "      <td>0</td>\n",
       "    </tr>\n",
       "    <tr>\n",
       "      <th>414</th>\n",
       "      <td>1306</td>\n",
       "      <td>1</td>\n",
       "    </tr>\n",
       "    <tr>\n",
       "      <th>415</th>\n",
       "      <td>1307</td>\n",
       "      <td>0</td>\n",
       "    </tr>\n",
       "    <tr>\n",
       "      <th>416</th>\n",
       "      <td>1308</td>\n",
       "      <td>0</td>\n",
       "    </tr>\n",
       "    <tr>\n",
       "      <th>417</th>\n",
       "      <td>1309</td>\n",
       "      <td>0</td>\n",
       "    </tr>\n",
       "  </tbody>\n",
       "</table>\n",
       "<p>418 rows × 2 columns</p>\n",
       "</div>"
      ],
      "text/plain": [
       "     PassengerId  Survived\n",
       "0            892         0\n",
       "1            893         0\n",
       "2            894         0\n",
       "3            895         0\n",
       "4            896         0\n",
       "..           ...       ...\n",
       "413         1305         0\n",
       "414         1306         1\n",
       "415         1307         0\n",
       "416         1308         0\n",
       "417         1309         0\n",
       "\n",
       "[418 rows x 2 columns]"
      ]
     },
     "execution_count": 44,
     "metadata": {},
     "output_type": "execute_result"
    }
   ],
   "source": [
    "output"
   ]
  }
 ],
 "metadata": {
  "kernelspec": {
   "display_name": "Python 3",
   "language": "python",
   "name": "python3"
  },
  "language_info": {
   "codemirror_mode": {
    "name": "ipython",
    "version": 3
   },
   "file_extension": ".py",
   "mimetype": "text/x-python",
   "name": "python",
   "nbconvert_exporter": "python",
   "pygments_lexer": "ipython3",
   "version": "3.7.12"
  },
  "papermill": {
   "default_parameters": {},
   "duration": 38.351811,
   "end_time": "2022-10-26T00:15:46.866961",
   "environment_variables": {},
   "exception": null,
   "input_path": "__notebook__.ipynb",
   "output_path": "__notebook__.ipynb",
   "parameters": {},
   "start_time": "2022-10-26T00:15:08.515150",
   "version": "2.3.4"
  }
 },
 "nbformat": 4,
 "nbformat_minor": 5
}
